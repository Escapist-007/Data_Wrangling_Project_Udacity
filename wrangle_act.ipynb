{
 "cells": [
  {
   "cell_type": "markdown",
   "metadata": {},
   "source": [
    "## Import all necessary libraries and modules"
   ]
  },
  {
   "cell_type": "code",
   "execution_count": 1,
   "metadata": {},
   "outputs": [],
   "source": [
    "import pandas as pd\n",
    "import numpy as np\n",
    "import requests as req\n",
    "import tweepy as tp\n",
    "import json as js\n",
    "import re\n",
    "import matplotlib.pyplot as plt\n",
    "import math\n",
    "import re\n",
    "import os"
   ]
  },
  {
   "cell_type": "code",
   "execution_count": 2,
   "metadata": {},
   "outputs": [
    {
     "name": "stdout",
     "output_type": "stream",
     "text": [
      "Datasets in current directory:  ['twitter-archive-enhanced.csv', 'image_predictions.tsv', 'tweet_json.txt']\n"
     ]
    }
   ],
   "source": [
    "# dataset files that are already in the current directory\n",
    "datasets = [ds for ds in list(os.listdir()) if not ds.startswith('.') and not ds.endswith('.ipynb')]\n",
    "print(\"Datasets in current directory: \",datasets)"
   ]
  },
  {
   "cell_type": "markdown",
   "metadata": {},
   "source": [
    "# <center> <font color=blue> DATA GATHERING </font>\n",
    "---"
   ]
  },
  {
   "cell_type": "markdown",
   "metadata": {},
   "source": [
    "#### `Data source-01:` 'WeRateDogs' enhanced twitter archive having 2356 tweets"
   ]
  },
  {
   "cell_type": "code",
   "execution_count": 3,
   "metadata": {},
   "outputs": [
    {
     "name": "stdout",
     "output_type": "stream",
     "text": [
      "The columns are: \n",
      " ['tweet_id', 'in_reply_to_status_id', 'in_reply_to_user_id', 'timestamp', 'source', 'text', 'retweeted_status_id', 'retweeted_status_user_id', 'retweeted_status_timestamp', 'expanded_urls', 'rating_numerator', 'rating_denominator', 'name', 'doggo', 'floofer', 'pupper', 'puppo']\n"
     ]
    }
   ],
   "source": [
    "# Loding the csv file 'twitter_archive_enhanced.csv' into a dataframe\n",
    "df_twitter_archive = pd.read_csv('twitter-archive-enhanced.csv')\n",
    "print(\"The columns are: \\n\", list(df_twitter_archive.columns))"
   ]
  },
  {
   "cell_type": "code",
   "execution_count": 4,
   "metadata": {},
   "outputs": [
    {
     "data": {
      "text/html": [
       "<div>\n",
       "<style scoped>\n",
       "    .dataframe tbody tr th:only-of-type {\n",
       "        vertical-align: middle;\n",
       "    }\n",
       "\n",
       "    .dataframe tbody tr th {\n",
       "        vertical-align: top;\n",
       "    }\n",
       "\n",
       "    .dataframe thead th {\n",
       "        text-align: right;\n",
       "    }\n",
       "</style>\n",
       "<table border=\"1\" class=\"dataframe\">\n",
       "  <thead>\n",
       "    <tr style=\"text-align: right;\">\n",
       "      <th></th>\n",
       "      <th>tweet_id</th>\n",
       "      <th>in_reply_to_status_id</th>\n",
       "      <th>in_reply_to_user_id</th>\n",
       "      <th>timestamp</th>\n",
       "      <th>source</th>\n",
       "      <th>text</th>\n",
       "      <th>retweeted_status_id</th>\n",
       "      <th>retweeted_status_user_id</th>\n",
       "      <th>retweeted_status_timestamp</th>\n",
       "      <th>expanded_urls</th>\n",
       "      <th>rating_numerator</th>\n",
       "      <th>rating_denominator</th>\n",
       "      <th>name</th>\n",
       "      <th>doggo</th>\n",
       "      <th>floofer</th>\n",
       "      <th>pupper</th>\n",
       "      <th>puppo</th>\n",
       "    </tr>\n",
       "  </thead>\n",
       "  <tbody>\n",
       "    <tr>\n",
       "      <td>2355</td>\n",
       "      <td>666020888022790149</td>\n",
       "      <td>NaN</td>\n",
       "      <td>NaN</td>\n",
       "      <td>2015-11-15 22:32:08 +0000</td>\n",
       "      <td>&lt;a href=\"http://twitter.com/download/iphone\" r...</td>\n",
       "      <td>Here we have a Japanese Irish Setter. Lost eye...</td>\n",
       "      <td>NaN</td>\n",
       "      <td>NaN</td>\n",
       "      <td>NaN</td>\n",
       "      <td>https://twitter.com/dog_rates/status/666020888...</td>\n",
       "      <td>8</td>\n",
       "      <td>10</td>\n",
       "      <td>None</td>\n",
       "      <td>None</td>\n",
       "      <td>None</td>\n",
       "      <td>None</td>\n",
       "      <td>None</td>\n",
       "    </tr>\n",
       "  </tbody>\n",
       "</table>\n",
       "</div>"
      ],
      "text/plain": [
       "                tweet_id  in_reply_to_status_id  in_reply_to_user_id  \\\n",
       "2355  666020888022790149                    NaN                  NaN   \n",
       "\n",
       "                      timestamp  \\\n",
       "2355  2015-11-15 22:32:08 +0000   \n",
       "\n",
       "                                                 source  \\\n",
       "2355  <a href=\"http://twitter.com/download/iphone\" r...   \n",
       "\n",
       "                                                   text  retweeted_status_id  \\\n",
       "2355  Here we have a Japanese Irish Setter. Lost eye...                  NaN   \n",
       "\n",
       "      retweeted_status_user_id retweeted_status_timestamp  \\\n",
       "2355                       NaN                        NaN   \n",
       "\n",
       "                                          expanded_urls  rating_numerator  \\\n",
       "2355  https://twitter.com/dog_rates/status/666020888...                 8   \n",
       "\n",
       "      rating_denominator  name doggo floofer pupper puppo  \n",
       "2355                  10  None  None    None   None  None  "
      ]
     },
     "execution_count": 4,
     "metadata": {},
     "output_type": "execute_result"
    }
   ],
   "source": [
    "df_twitter_archive.tail(1)"
   ]
  },
  {
   "cell_type": "markdown",
   "metadata": {},
   "source": [
    "#### `Data source-02:`  tweet image predictions file"
   ]
  },
  {
   "cell_type": "code",
   "execution_count": 5,
   "metadata": {},
   "outputs": [
    {
     "name": "stdout",
     "output_type": "stream",
     "text": [
      "Already in the current directory\n"
     ]
    }
   ],
   "source": [
    "# Loading the'image_predictions.tsv' file from UDACITY's SERVER using 'requests' library\n",
    "if 'image_predictions.tsv' in datasets:\n",
    "    print(\"Already in the current directory\")\n",
    "    pass\n",
    "else:\n",
    "    URL = 'https://d17h27t6h515a5.cloudfront.net/topher/2017/August/599fd2ad_image-predictions/image-predictions.tsv'\n",
    "    URL_RESPONSE = req.get(URL)\n",
    "\n",
    "    # write the content from the url into a tsv file\n",
    "    with open('image_predictions.tsv','wb') as file:\n",
    "        file.write(URL_RESPONSE.content)\n",
    "\n",
    "# Loading the tsv file 'image_predictions.tsv' into a dataframe\n",
    "df_img_predictions = pd.read_csv('image_predictions.tsv',sep='\\t') # '\\t' as this is tab separated file"
   ]
  },
  {
   "cell_type": "code",
   "execution_count": 6,
   "metadata": {},
   "outputs": [
    {
     "name": "stdout",
     "output_type": "stream",
     "text": [
      "The columns are: \n",
      " ['tweet_id', 'jpg_url', 'img_num', 'p1', 'p1_conf', 'p1_dog', 'p2', 'p2_conf', 'p2_dog', 'p3', 'p3_conf', 'p3_dog']\n"
     ]
    }
   ],
   "source": [
    "print(\"The columns are: \\n\", list(df_img_predictions.columns))"
   ]
  },
  {
   "cell_type": "code",
   "execution_count": 7,
   "metadata": {},
   "outputs": [
    {
     "data": {
      "text/html": [
       "<div>\n",
       "<style scoped>\n",
       "    .dataframe tbody tr th:only-of-type {\n",
       "        vertical-align: middle;\n",
       "    }\n",
       "\n",
       "    .dataframe tbody tr th {\n",
       "        vertical-align: top;\n",
       "    }\n",
       "\n",
       "    .dataframe thead th {\n",
       "        text-align: right;\n",
       "    }\n",
       "</style>\n",
       "<table border=\"1\" class=\"dataframe\">\n",
       "  <thead>\n",
       "    <tr style=\"text-align: right;\">\n",
       "      <th></th>\n",
       "      <th>tweet_id</th>\n",
       "      <th>jpg_url</th>\n",
       "      <th>img_num</th>\n",
       "      <th>p1</th>\n",
       "      <th>p1_conf</th>\n",
       "      <th>p1_dog</th>\n",
       "      <th>p2</th>\n",
       "      <th>p2_conf</th>\n",
       "      <th>p2_dog</th>\n",
       "      <th>p3</th>\n",
       "      <th>p3_conf</th>\n",
       "      <th>p3_dog</th>\n",
       "    </tr>\n",
       "  </thead>\n",
       "  <tbody>\n",
       "    <tr>\n",
       "      <td>2074</td>\n",
       "      <td>892420643555336193</td>\n",
       "      <td>https://pbs.twimg.com/media/DGKD1-bXoAAIAUK.jpg</td>\n",
       "      <td>1</td>\n",
       "      <td>orange</td>\n",
       "      <td>0.097049</td>\n",
       "      <td>False</td>\n",
       "      <td>bagel</td>\n",
       "      <td>0.085851</td>\n",
       "      <td>False</td>\n",
       "      <td>banana</td>\n",
       "      <td>0.07611</td>\n",
       "      <td>False</td>\n",
       "    </tr>\n",
       "  </tbody>\n",
       "</table>\n",
       "</div>"
      ],
      "text/plain": [
       "                tweet_id                                          jpg_url  \\\n",
       "2074  892420643555336193  https://pbs.twimg.com/media/DGKD1-bXoAAIAUK.jpg   \n",
       "\n",
       "      img_num      p1   p1_conf  p1_dog     p2   p2_conf  p2_dog      p3  \\\n",
       "2074        1  orange  0.097049   False  bagel  0.085851   False  banana   \n",
       "\n",
       "      p3_conf  p3_dog  \n",
       "2074  0.07611   False  "
      ]
     },
     "execution_count": 7,
     "metadata": {},
     "output_type": "execute_result"
    }
   ],
   "source": [
    "df_img_predictions.tail(1)"
   ]
  },
  {
   "cell_type": "markdown",
   "metadata": {},
   "source": [
    "#### `Data source-03:`  each tweet's retweet count and favorite (\"like\") count using `tweepy` (for accessing the twitter API)"
   ]
  },
  {
   "cell_type": "code",
   "execution_count": 8,
   "metadata": {},
   "outputs": [],
   "source": [
    "# Personal API keys, secrets, and tokens which replaced with 'HIDDEN'\n",
    "# Use your own credentials\n",
    "\n",
    "API_KEY = 'HIDDEN' \n",
    "API_SECRET_KEY = 'HIDDEN'\n",
    "\n",
    "ACCESS_TOKEN = 'HIDDEN'\n",
    "ACCESS_TOKEN_SECRET = 'HIDDEN'"
   ]
  },
  {
   "cell_type": "code",
   "execution_count": 9,
   "metadata": {},
   "outputs": [],
   "source": [
    "# Set the tweepy API \n",
    "auth = tp.OAuthHandler(API_KEY, API_SECRET_KEY)\n",
    "auth.set_access_token(ACCESS_TOKEN, ACCESS_TOKEN_SECRET)\n",
    "\n",
    "API = tp.API(auth_handler = auth, wait_on_rate_limit = True, wait_on_rate_limit_notify = True)"
   ]
  },
  {
   "cell_type": "code",
   "execution_count": 10,
   "metadata": {},
   "outputs": [
    {
     "name": "stdout",
     "output_type": "stream",
     "text": [
      "Already in the current directory\n"
     ]
    }
   ],
   "source": [
    "# Get the json response from twitter API for each tweet\n",
    "\n",
    "tweet_ids = df_twitter_archive.tweet_id  # all tweet ids from data source 01\n",
    "\n",
    "if 'tweet_json.txt' in datasets:\n",
    "    print(\"Already in the current directory\")\n",
    "    pass\n",
    "else:\n",
    "    with open('tweet_json.txt', 'a', encoding='utf8') as out:\n",
    "        for tweet_id in tweet_ids:\n",
    "            try:\n",
    "                tweet = API.get_status(tweet_id, tweet_mode='extended')\n",
    "                js.dump(tweet._json, out)\n",
    "                out.write('\\n')\n",
    "            except:\n",
    "                bad_tweet_ids.append(int(tweet_id))"
   ]
  },
  {
   "cell_type": "code",
   "execution_count": 11,
   "metadata": {},
   "outputs": [
    {
     "name": "stdout",
     "output_type": "stream",
     "text": [
      "\u001b[38;2;255;0;0m created_at\u001b[0m value:  Tue Aug 01 16:23:56 +0000 2017\n",
      "\u001b[38;2;255;0;0m id\u001b[0m value:  892420643555336193\n",
      "\u001b[38;2;255;0;0m id_str\u001b[0m value:  892420643555336193\n",
      "\u001b[38;2;255;0;0m full_text\u001b[0m value:  This is Phineas. He's a mystical boy. Only ever appears in the hole of a donut. 13/10 https://t.co/MgUWQ76dJU\n",
      "\u001b[38;2;255;0;0m truncated\u001b[0m value:  False\n",
      "\u001b[38;2;255;0;0m display_text_range\u001b[0m value:  [0, 85]\n",
      "\u001b[38;2;255;0;0m source\u001b[0m value:  <a href=\"http://twitter.com/download/iphone\" rel=\"nofollow\">Twitter for iPhone</a>\n",
      "\u001b[38;2;255;0;0m in_reply_to_status_id\u001b[0m value:  None\n",
      "\u001b[38;2;255;0;0m in_reply_to_status_id_str\u001b[0m value:  None\n",
      "\u001b[38;2;255;0;0m in_reply_to_user_id\u001b[0m value:  None\n",
      "\u001b[38;2;255;0;0m in_reply_to_user_id_str\u001b[0m value:  None\n",
      "\u001b[38;2;255;0;0m in_reply_to_screen_name\u001b[0m value:  None\n",
      "\u001b[38;2;255;0;0m geo\u001b[0m value:  None\n",
      "\u001b[38;2;255;0;0m coordinates\u001b[0m value:  None\n",
      "\u001b[38;2;255;0;0m place\u001b[0m value:  None\n",
      "\u001b[38;2;255;0;0m contributors\u001b[0m value:  None\n",
      "\u001b[38;2;255;0;0m is_quote_status\u001b[0m value:  False\n",
      "\u001b[38;2;255;0;0m retweet_count\u001b[0m value:  7739\n",
      "\u001b[38;2;255;0;0m favorite_count\u001b[0m value:  36356\n",
      "\u001b[38;2;255;0;0m favorited\u001b[0m value:  False\n",
      "\u001b[38;2;255;0;0m retweeted\u001b[0m value:  False\n",
      "\u001b[38;2;255;0;0m possibly_sensitive\u001b[0m value:  False\n",
      "\u001b[38;2;255;0;0m possibly_sensitive_appealable\u001b[0m value:  False\n",
      "\u001b[38;2;255;0;0m lang\u001b[0m value:  en\n"
     ]
    }
   ],
   "source": [
    "# Explore the structure of the json response from twitter API for a tweet id\n",
    "with open('tweet_json.txt', 'r') as json_file:\n",
    "    for line in json_file:\n",
    "        for k,v in dict(js.loads(line)).items():\n",
    "            if k=='user' or k=='entities' or k=='extended_entities':\n",
    "                continue\n",
    "            print('\\x1b[38;2;255;0;0m {}\\x1b[0m'.format(k), end=' ')\n",
    "            print('value: ',v)\n",
    "        break"
   ]
  },
  {
   "cell_type": "code",
   "execution_count": 12,
   "metadata": {},
   "outputs": [],
   "source": [
    "# Load the json responses from the tweet_json.txt file into a list\n",
    "tweets_json = []\n",
    "with open('tweet_json.txt', 'r') as json_file:\n",
    "    for line in json_file:\n",
    "        tweet_json = js.loads(line)\n",
    "        tweets_json.append(tweet_json)"
   ]
  },
  {
   "cell_type": "code",
   "execution_count": 13,
   "metadata": {},
   "outputs": [
    {
     "name": "stdout",
     "output_type": "stream",
     "text": [
      "No of tweets for which I get the response from twitter API:  2331\n",
      "No of tweets with no response from twitter API:  25\n"
     ]
    }
   ],
   "source": [
    "print(\"No of tweets for which I get the response from twitter API: \",len(tweets_json))\n",
    "print(\"No of tweets with no response from twitter API: \",2356-len(tweets_json))"
   ]
  },
  {
   "cell_type": "code",
   "execution_count": 14,
   "metadata": {},
   "outputs": [],
   "source": [
    "# Create dataframe for the tweet's json response from the twitter API\n",
    "\n",
    "# lamda expressions for the columns of the dataframe \n",
    "ID = lambda x: x['id']\n",
    "lang  = lambda x: x['lang']\n",
    "place = lambda x: x['place']\n",
    "retweet_count  = lambda x: x['retweet_count']\n",
    "favorite_count = lambda x: x['favorite_count']\n",
    "display_text_range = lambda x: x['display_text_range']\n",
    "\n",
    "\n",
    "df_twitter_api = pd.DataFrame()\n",
    "\n",
    "\n",
    "df_twitter_api['id'] = list(map(ID, tweets_json)) # apply the lambda function to every json response\n",
    "df_twitter_api['retweet_count'] = list(map(retweet_count, tweets_json))\n",
    "df_twitter_api['favorite_count'] = list(map(favorite_count, tweets_json))\n",
    "df_twitter_api['display_text_range'] = list(map(display_text_range, tweets_json))\n",
    "df_twitter_api['lang'] = list(map(lang, tweets_json))\n",
    "df_twitter_api['place'] = list(map(place, tweets_json))"
   ]
  },
  {
   "cell_type": "code",
   "execution_count": 15,
   "metadata": {},
   "outputs": [
    {
     "name": "stdout",
     "output_type": "stream",
     "text": [
      "The columns are: \n",
      " ['id', 'retweet_count', 'favorite_count', 'display_text_range', 'lang', 'place']\n"
     ]
    }
   ],
   "source": [
    "print(\"The columns are: \\n\", list(df_twitter_api.columns))"
   ]
  },
  {
   "cell_type": "code",
   "execution_count": 16,
   "metadata": {},
   "outputs": [
    {
     "data": {
      "text/html": [
       "<div>\n",
       "<style scoped>\n",
       "    .dataframe tbody tr th:only-of-type {\n",
       "        vertical-align: middle;\n",
       "    }\n",
       "\n",
       "    .dataframe tbody tr th {\n",
       "        vertical-align: top;\n",
       "    }\n",
       "\n",
       "    .dataframe thead th {\n",
       "        text-align: right;\n",
       "    }\n",
       "</style>\n",
       "<table border=\"1\" class=\"dataframe\">\n",
       "  <thead>\n",
       "    <tr style=\"text-align: right;\">\n",
       "      <th></th>\n",
       "      <th>id</th>\n",
       "      <th>retweet_count</th>\n",
       "      <th>favorite_count</th>\n",
       "      <th>display_text_range</th>\n",
       "      <th>lang</th>\n",
       "      <th>place</th>\n",
       "    </tr>\n",
       "  </thead>\n",
       "  <tbody>\n",
       "    <tr>\n",
       "      <td>2330</td>\n",
       "      <td>666020888022790149</td>\n",
       "      <td>465</td>\n",
       "      <td>2424</td>\n",
       "      <td>[0, 131]</td>\n",
       "      <td>en</td>\n",
       "      <td>None</td>\n",
       "    </tr>\n",
       "  </tbody>\n",
       "</table>\n",
       "</div>"
      ],
      "text/plain": [
       "                      id  retweet_count  favorite_count display_text_range  \\\n",
       "2330  666020888022790149            465            2424           [0, 131]   \n",
       "\n",
       "     lang place  \n",
       "2330   en  None  "
      ]
     },
     "execution_count": 16,
     "metadata": {},
     "output_type": "execute_result"
    }
   ],
   "source": [
    "df_twitter_api.tail(1)"
   ]
  },
  {
   "cell_type": "markdown",
   "metadata": {},
   "source": [
    "# <center> <font color=blue> ASSESSING DATA  </font> </center>\n",
    "<center> Visually and Programmatically </center>\n",
    "\n",
    "---\n",
    "\n",
    "#### Need to detect and document at least `8 quality issues and 2 tidiness issues`\n",
    "\n",
    "#### <font color=blue> I only want original ratings (no retweets) that have images as it is said in project motivation section. \n"
   ]
  },
  {
   "cell_type": "markdown",
   "metadata": {},
   "source": [
    "Three dataframes:\n",
    "\n",
    "- `df_twitter_archive` has the tweet's text, rating, dog name, dog category etc.\n",
    "\n",
    "\n",
    "- `df_img_predictions` has the prediction results of a neural network(nn) trying to identify the dog breed in a tweet's picture.\n",
    "\n",
    "\n",
    "\n",
    "- `df_twitter_api` has retweet, favorite counts, place, language.\n"
   ]
  },
  {
   "cell_type": "markdown",
   "metadata": {},
   "source": [
    "Here, I am inspecting these 3 dataframes for two things: \n",
    "\n",
    "- Data quality issues and\n",
    "- Tidiness issues\n",
    "\n",
    "**Quality Issues** means content issues like missing, duplicate, or incorrect data while **tidiness issues** means structural issues.\n",
    "\n",
    "---\n",
    "There are four dimensions of data quality assessment.\n",
    "\n",
    "**Completeness** ~ Are there any missing data in specific rows or columns? \n",
    "\n",
    "**Validity** ~ Are there any records not correct due to any reason? \n",
    "\n",
    "**Accuracy** ~ Are there any extreme data or unusual data? \n",
    "\n",
    "**Consistency** ~ Are they keep the consistence of scale standard or data type?"
   ]
  },
  {
   "cell_type": "markdown",
   "metadata": {},
   "source": [
    "### <center> <font color=brown> Inspecting  `df_twitter_archive` dataframe"
   ]
  },
  {
   "cell_type": "code",
   "execution_count": 17,
   "metadata": {},
   "outputs": [
    {
     "name": "stdout",
     "output_type": "stream",
     "text": [
      "<class 'pandas.core.frame.DataFrame'>\n",
      "RangeIndex: 2356 entries, 0 to 2355\n",
      "Data columns (total 17 columns):\n",
      "tweet_id                      2356 non-null int64\n",
      "in_reply_to_status_id         78 non-null float64\n",
      "in_reply_to_user_id           78 non-null float64\n",
      "timestamp                     2356 non-null object\n",
      "source                        2356 non-null object\n",
      "text                          2356 non-null object\n",
      "retweeted_status_id           181 non-null float64\n",
      "retweeted_status_user_id      181 non-null float64\n",
      "retweeted_status_timestamp    181 non-null object\n",
      "expanded_urls                 2297 non-null object\n",
      "rating_numerator              2356 non-null int64\n",
      "rating_denominator            2356 non-null int64\n",
      "name                          2356 non-null object\n",
      "doggo                         2356 non-null object\n",
      "floofer                       2356 non-null object\n",
      "pupper                        2356 non-null object\n",
      "puppo                         2356 non-null object\n",
      "dtypes: float64(4), int64(3), object(10)\n",
      "memory usage: 313.0+ KB\n"
     ]
    }
   ],
   "source": [
    "df_twitter_archive.info() # 2356 rows and 17 columns"
   ]
  },
  {
   "cell_type": "code",
   "execution_count": 18,
   "metadata": {},
   "outputs": [
    {
     "data": {
      "text/plain": [
       "tweet_id                         0\n",
       "in_reply_to_status_id         2278\n",
       "in_reply_to_user_id           2278\n",
       "timestamp                        0\n",
       "source                           0\n",
       "text                             0\n",
       "retweeted_status_id           2175\n",
       "retweeted_status_user_id      2175\n",
       "retweeted_status_timestamp    2175\n",
       "expanded_urls                   59\n",
       "rating_numerator                 0\n",
       "rating_denominator               0\n",
       "name                             0\n",
       "doggo                            0\n",
       "floofer                          0\n",
       "pupper                           0\n",
       "puppo                            0\n",
       "dtype: int64"
      ]
     },
     "execution_count": 18,
     "metadata": {},
     "output_type": "execute_result"
    }
   ],
   "source": [
    "df_twitter_archive.isnull().sum()"
   ]
  },
  {
   "cell_type": "markdown",
   "metadata": {},
   "source": [
    "### <font color=blue> Observation: \n",
    "- Some columns are not null but have less than 2356 entries which reflects that there missing values in those columns. e.g. *in_reply_to_status_id* and *in_reply_to_user_id* have only 78 values which means there are many missing values in these two columns.**[Completeness issue]**\n",
    "    \n",
    "\n",
    "- 'retweeted_status_id' has 181 entries which means these are not original tweets.\n",
    "\n",
    "\n",
    "- Some columns are actually not necessary for my analysis purpose. e.g. retweeted_status_id, retweeted_status_user_id, retweeted_status_timestamp. **[Completeness issue]**\n",
    "\n",
    "\n",
    "- Wrong data type. e.g. timestamp column doesn't have the data type \"datetime' **[Consistency issue]**\n",
    "\n",
    "\n",
    "- I need those tweets having images. But there are some tweets having no image which I find from the 'expanded_urls' column. There are 2297 entries in this columns. So, missing images for 59 tweets **[Completeness issue]**\n"
   ]
  },
  {
   "cell_type": "code",
   "execution_count": 19,
   "metadata": {},
   "outputs": [
    {
     "data": {
      "text/html": [
       "<div>\n",
       "<style scoped>\n",
       "    .dataframe tbody tr th:only-of-type {\n",
       "        vertical-align: middle;\n",
       "    }\n",
       "\n",
       "    .dataframe tbody tr th {\n",
       "        vertical-align: top;\n",
       "    }\n",
       "\n",
       "    .dataframe thead th {\n",
       "        text-align: right;\n",
       "    }\n",
       "</style>\n",
       "<table border=\"1\" class=\"dataframe\">\n",
       "  <thead>\n",
       "    <tr style=\"text-align: right;\">\n",
       "      <th></th>\n",
       "      <th>tweet_id</th>\n",
       "      <th>in_reply_to_status_id</th>\n",
       "      <th>in_reply_to_user_id</th>\n",
       "      <th>retweeted_status_id</th>\n",
       "      <th>retweeted_status_user_id</th>\n",
       "      <th>rating_numerator</th>\n",
       "      <th>rating_denominator</th>\n",
       "    </tr>\n",
       "  </thead>\n",
       "  <tbody>\n",
       "    <tr>\n",
       "      <td>count</td>\n",
       "      <td>2.356000e+03</td>\n",
       "      <td>7.800000e+01</td>\n",
       "      <td>7.800000e+01</td>\n",
       "      <td>1.810000e+02</td>\n",
       "      <td>1.810000e+02</td>\n",
       "      <td>2356.000000</td>\n",
       "      <td>2356.000000</td>\n",
       "    </tr>\n",
       "    <tr>\n",
       "      <td>mean</td>\n",
       "      <td>7.427716e+17</td>\n",
       "      <td>7.455079e+17</td>\n",
       "      <td>2.014171e+16</td>\n",
       "      <td>7.720400e+17</td>\n",
       "      <td>1.241698e+16</td>\n",
       "      <td>13.126486</td>\n",
       "      <td>10.455433</td>\n",
       "    </tr>\n",
       "    <tr>\n",
       "      <td>std</td>\n",
       "      <td>6.856705e+16</td>\n",
       "      <td>7.582492e+16</td>\n",
       "      <td>1.252797e+17</td>\n",
       "      <td>6.236928e+16</td>\n",
       "      <td>9.599254e+16</td>\n",
       "      <td>45.876648</td>\n",
       "      <td>6.745237</td>\n",
       "    </tr>\n",
       "    <tr>\n",
       "      <td>min</td>\n",
       "      <td>6.660209e+17</td>\n",
       "      <td>6.658147e+17</td>\n",
       "      <td>1.185634e+07</td>\n",
       "      <td>6.661041e+17</td>\n",
       "      <td>7.832140e+05</td>\n",
       "      <td>0.000000</td>\n",
       "      <td>0.000000</td>\n",
       "    </tr>\n",
       "    <tr>\n",
       "      <td>25%</td>\n",
       "      <td>6.783989e+17</td>\n",
       "      <td>6.757419e+17</td>\n",
       "      <td>3.086374e+08</td>\n",
       "      <td>7.186315e+17</td>\n",
       "      <td>4.196984e+09</td>\n",
       "      <td>10.000000</td>\n",
       "      <td>10.000000</td>\n",
       "    </tr>\n",
       "    <tr>\n",
       "      <td>50%</td>\n",
       "      <td>7.196279e+17</td>\n",
       "      <td>7.038708e+17</td>\n",
       "      <td>4.196984e+09</td>\n",
       "      <td>7.804657e+17</td>\n",
       "      <td>4.196984e+09</td>\n",
       "      <td>11.000000</td>\n",
       "      <td>10.000000</td>\n",
       "    </tr>\n",
       "    <tr>\n",
       "      <td>75%</td>\n",
       "      <td>7.993373e+17</td>\n",
       "      <td>8.257804e+17</td>\n",
       "      <td>4.196984e+09</td>\n",
       "      <td>8.203146e+17</td>\n",
       "      <td>4.196984e+09</td>\n",
       "      <td>12.000000</td>\n",
       "      <td>10.000000</td>\n",
       "    </tr>\n",
       "    <tr>\n",
       "      <td>max</td>\n",
       "      <td>8.924206e+17</td>\n",
       "      <td>8.862664e+17</td>\n",
       "      <td>8.405479e+17</td>\n",
       "      <td>8.874740e+17</td>\n",
       "      <td>7.874618e+17</td>\n",
       "      <td>1776.000000</td>\n",
       "      <td>170.000000</td>\n",
       "    </tr>\n",
       "  </tbody>\n",
       "</table>\n",
       "</div>"
      ],
      "text/plain": [
       "           tweet_id  in_reply_to_status_id  in_reply_to_user_id  \\\n",
       "count  2.356000e+03           7.800000e+01         7.800000e+01   \n",
       "mean   7.427716e+17           7.455079e+17         2.014171e+16   \n",
       "std    6.856705e+16           7.582492e+16         1.252797e+17   \n",
       "min    6.660209e+17           6.658147e+17         1.185634e+07   \n",
       "25%    6.783989e+17           6.757419e+17         3.086374e+08   \n",
       "50%    7.196279e+17           7.038708e+17         4.196984e+09   \n",
       "75%    7.993373e+17           8.257804e+17         4.196984e+09   \n",
       "max    8.924206e+17           8.862664e+17         8.405479e+17   \n",
       "\n",
       "       retweeted_status_id  retweeted_status_user_id  rating_numerator  \\\n",
       "count         1.810000e+02              1.810000e+02       2356.000000   \n",
       "mean          7.720400e+17              1.241698e+16         13.126486   \n",
       "std           6.236928e+16              9.599254e+16         45.876648   \n",
       "min           6.661041e+17              7.832140e+05          0.000000   \n",
       "25%           7.186315e+17              4.196984e+09         10.000000   \n",
       "50%           7.804657e+17              4.196984e+09         11.000000   \n",
       "75%           8.203146e+17              4.196984e+09         12.000000   \n",
       "max           8.874740e+17              7.874618e+17       1776.000000   \n",
       "\n",
       "       rating_denominator  \n",
       "count         2356.000000  \n",
       "mean            10.455433  \n",
       "std              6.745237  \n",
       "min              0.000000  \n",
       "25%             10.000000  \n",
       "50%             10.000000  \n",
       "75%             10.000000  \n",
       "max            170.000000  "
      ]
     },
     "execution_count": 19,
     "metadata": {},
     "output_type": "execute_result"
    }
   ],
   "source": [
    "df_twitter_archive.describe() "
   ]
  },
  {
   "cell_type": "markdown",
   "metadata": {},
   "source": [
    "### <font color=blue> Observation: \n",
    "- The max value for the column 'rating_numerator' is 1776 and mean value is 13.13 which means the max value is an outlier. The rating 1776 is incorrect. **[Accuracy issue]**\n",
    "\n",
    "- The value for the column 'rating_denominator' should be always 10. But I see that the mean is 10.46 and the max value is 170 which means there are some wrong entries in this column. **[Accuracy issue]**"
   ]
  },
  {
   "cell_type": "code",
   "execution_count": 20,
   "metadata": {},
   "outputs": [
    {
     "data": {
      "text/plain": [
       "10     2333\n",
       "11        3\n",
       "50        3\n",
       "80        2\n",
       "20        2\n",
       "2         1\n",
       "16        1\n",
       "40        1\n",
       "70        1\n",
       "15        1\n",
       "90        1\n",
       "110       1\n",
       "120       1\n",
       "130       1\n",
       "150       1\n",
       "170       1\n",
       "7         1\n",
       "0         1\n",
       "Name: rating_denominator, dtype: int64"
      ]
     },
     "execution_count": 20,
     "metadata": {},
     "output_type": "execute_result"
    }
   ],
   "source": [
    "# Explore the distribution of values for the column 'rating_denominator'\n",
    "df_twitter_archive.rating_denominator.value_counts()"
   ]
  },
  {
   "cell_type": "code",
   "execution_count": 21,
   "metadata": {},
   "outputs": [
    {
     "data": {
      "text/plain": [
       "12      558\n",
       "11      464\n",
       "10      461\n",
       "13      351\n",
       "9       158\n",
       "8       102\n",
       "7        55\n",
       "14       54\n",
       "5        37\n",
       "6        32\n",
       "3        19\n",
       "4        17\n",
       "1         9\n",
       "2         9\n",
       "420       2\n",
       "0         2\n",
       "15        2\n",
       "75        2\n",
       "80        1\n",
       "20        1\n",
       "24        1\n",
       "26        1\n",
       "44        1\n",
       "50        1\n",
       "60        1\n",
       "165       1\n",
       "84        1\n",
       "88        1\n",
       "144       1\n",
       "182       1\n",
       "143       1\n",
       "666       1\n",
       "960       1\n",
       "1776      1\n",
       "17        1\n",
       "27        1\n",
       "45        1\n",
       "99        1\n",
       "121       1\n",
       "204       1\n",
       "Name: rating_numerator, dtype: int64"
      ]
     },
     "execution_count": 21,
     "metadata": {},
     "output_type": "execute_result"
    }
   ],
   "source": [
    "# Explore the distribution of values for the column 'rating_numerator'\n",
    "df_twitter_archive.rating_numerator.value_counts()"
   ]
  },
  {
   "cell_type": "code",
   "execution_count": 22,
   "metadata": {},
   "outputs": [
    {
     "data": {
      "text/html": [
       "<div>\n",
       "<style scoped>\n",
       "    .dataframe tbody tr th:only-of-type {\n",
       "        vertical-align: middle;\n",
       "    }\n",
       "\n",
       "    .dataframe tbody tr th {\n",
       "        vertical-align: top;\n",
       "    }\n",
       "\n",
       "    .dataframe thead th {\n",
       "        text-align: right;\n",
       "    }\n",
       "</style>\n",
       "<table border=\"1\" class=\"dataframe\">\n",
       "  <thead>\n",
       "    <tr style=\"text-align: right;\">\n",
       "      <th></th>\n",
       "      <th>tweet_id</th>\n",
       "      <th>in_reply_to_status_id</th>\n",
       "      <th>in_reply_to_user_id</th>\n",
       "      <th>timestamp</th>\n",
       "      <th>source</th>\n",
       "      <th>text</th>\n",
       "      <th>retweeted_status_id</th>\n",
       "      <th>retweeted_status_user_id</th>\n",
       "      <th>retweeted_status_timestamp</th>\n",
       "      <th>expanded_urls</th>\n",
       "      <th>rating_numerator</th>\n",
       "      <th>rating_denominator</th>\n",
       "      <th>name</th>\n",
       "      <th>doggo</th>\n",
       "      <th>floofer</th>\n",
       "      <th>pupper</th>\n",
       "      <th>puppo</th>\n",
       "    </tr>\n",
       "  </thead>\n",
       "  <tbody>\n",
       "    <tr>\n",
       "      <td>1825</td>\n",
       "      <td>676470639084101634</td>\n",
       "      <td>NaN</td>\n",
       "      <td>NaN</td>\n",
       "      <td>2015-12-14 18:35:43 +0000</td>\n",
       "      <td>&lt;a href=\"http://twitter.com/download/iphone\" r...</td>\n",
       "      <td>Three generations of pupper. 11/10 for all htt...</td>\n",
       "      <td>NaN</td>\n",
       "      <td>NaN</td>\n",
       "      <td>NaN</td>\n",
       "      <td>https://twitter.com/dog_rates/status/676470639...</td>\n",
       "      <td>11</td>\n",
       "      <td>10</td>\n",
       "      <td>None</td>\n",
       "      <td>None</td>\n",
       "      <td>None</td>\n",
       "      <td>pupper</td>\n",
       "      <td>None</td>\n",
       "    </tr>\n",
       "    <tr>\n",
       "      <td>483</td>\n",
       "      <td>814986499976527872</td>\n",
       "      <td>NaN</td>\n",
       "      <td>NaN</td>\n",
       "      <td>2016-12-31 00:08:17 +0000</td>\n",
       "      <td>&lt;a href=\"http://twitter.com/download/iphone\" r...</td>\n",
       "      <td>This is Cooper. Someone attacked him with a sh...</td>\n",
       "      <td>NaN</td>\n",
       "      <td>NaN</td>\n",
       "      <td>NaN</td>\n",
       "      <td>https://twitter.com/dog_rates/status/814986499...</td>\n",
       "      <td>11</td>\n",
       "      <td>10</td>\n",
       "      <td>Cooper</td>\n",
       "      <td>None</td>\n",
       "      <td>None</td>\n",
       "      <td>pupper</td>\n",
       "      <td>None</td>\n",
       "    </tr>\n",
       "    <tr>\n",
       "      <td>637</td>\n",
       "      <td>793286476301799424</td>\n",
       "      <td>NaN</td>\n",
       "      <td>NaN</td>\n",
       "      <td>2016-11-01 03:00:09 +0000</td>\n",
       "      <td>&lt;a href=\"http://twitter.com/download/iphone\" r...</td>\n",
       "      <td>This is Moreton. He's the Good Boy Who Lived. ...</td>\n",
       "      <td>NaN</td>\n",
       "      <td>NaN</td>\n",
       "      <td>NaN</td>\n",
       "      <td>https://twitter.com/dog_rates/status/793286476...</td>\n",
       "      <td>13</td>\n",
       "      <td>10</td>\n",
       "      <td>Moreton</td>\n",
       "      <td>None</td>\n",
       "      <td>None</td>\n",
       "      <td>None</td>\n",
       "      <td>None</td>\n",
       "    </tr>\n",
       "    <tr>\n",
       "      <td>2048</td>\n",
       "      <td>671511350426865664</td>\n",
       "      <td>NaN</td>\n",
       "      <td>NaN</td>\n",
       "      <td>2015-12-01 02:09:16 +0000</td>\n",
       "      <td>&lt;a href=\"http://twitter.com/download/iphone\" r...</td>\n",
       "      <td>Say hello to Hammond. He's just a wee lil pup....</td>\n",
       "      <td>NaN</td>\n",
       "      <td>NaN</td>\n",
       "      <td>NaN</td>\n",
       "      <td>https://twitter.com/dog_rates/status/671511350...</td>\n",
       "      <td>8</td>\n",
       "      <td>10</td>\n",
       "      <td>Hammond</td>\n",
       "      <td>None</td>\n",
       "      <td>None</td>\n",
       "      <td>None</td>\n",
       "      <td>None</td>\n",
       "    </tr>\n",
       "    <tr>\n",
       "      <td>1744</td>\n",
       "      <td>679158373988876288</td>\n",
       "      <td>NaN</td>\n",
       "      <td>NaN</td>\n",
       "      <td>2015-12-22 04:35:49 +0000</td>\n",
       "      <td>&lt;a href=\"http://twitter.com/download/iphone\" r...</td>\n",
       "      <td>This is Rubio. He has too much skin. 11/10 htt...</td>\n",
       "      <td>NaN</td>\n",
       "      <td>NaN</td>\n",
       "      <td>NaN</td>\n",
       "      <td>https://twitter.com/dog_rates/status/679158373...</td>\n",
       "      <td>11</td>\n",
       "      <td>10</td>\n",
       "      <td>Rubio</td>\n",
       "      <td>None</td>\n",
       "      <td>None</td>\n",
       "      <td>None</td>\n",
       "      <td>None</td>\n",
       "    </tr>\n",
       "  </tbody>\n",
       "</table>\n",
       "</div>"
      ],
      "text/plain": [
       "                tweet_id  in_reply_to_status_id  in_reply_to_user_id  \\\n",
       "1825  676470639084101634                    NaN                  NaN   \n",
       "483   814986499976527872                    NaN                  NaN   \n",
       "637   793286476301799424                    NaN                  NaN   \n",
       "2048  671511350426865664                    NaN                  NaN   \n",
       "1744  679158373988876288                    NaN                  NaN   \n",
       "\n",
       "                      timestamp  \\\n",
       "1825  2015-12-14 18:35:43 +0000   \n",
       "483   2016-12-31 00:08:17 +0000   \n",
       "637   2016-11-01 03:00:09 +0000   \n",
       "2048  2015-12-01 02:09:16 +0000   \n",
       "1744  2015-12-22 04:35:49 +0000   \n",
       "\n",
       "                                                 source  \\\n",
       "1825  <a href=\"http://twitter.com/download/iphone\" r...   \n",
       "483   <a href=\"http://twitter.com/download/iphone\" r...   \n",
       "637   <a href=\"http://twitter.com/download/iphone\" r...   \n",
       "2048  <a href=\"http://twitter.com/download/iphone\" r...   \n",
       "1744  <a href=\"http://twitter.com/download/iphone\" r...   \n",
       "\n",
       "                                                   text  retweeted_status_id  \\\n",
       "1825  Three generations of pupper. 11/10 for all htt...                  NaN   \n",
       "483   This is Cooper. Someone attacked him with a sh...                  NaN   \n",
       "637   This is Moreton. He's the Good Boy Who Lived. ...                  NaN   \n",
       "2048  Say hello to Hammond. He's just a wee lil pup....                  NaN   \n",
       "1744  This is Rubio. He has too much skin. 11/10 htt...                  NaN   \n",
       "\n",
       "      retweeted_status_user_id retweeted_status_timestamp  \\\n",
       "1825                       NaN                        NaN   \n",
       "483                        NaN                        NaN   \n",
       "637                        NaN                        NaN   \n",
       "2048                       NaN                        NaN   \n",
       "1744                       NaN                        NaN   \n",
       "\n",
       "                                          expanded_urls  rating_numerator  \\\n",
       "1825  https://twitter.com/dog_rates/status/676470639...                11   \n",
       "483   https://twitter.com/dog_rates/status/814986499...                11   \n",
       "637   https://twitter.com/dog_rates/status/793286476...                13   \n",
       "2048  https://twitter.com/dog_rates/status/671511350...                 8   \n",
       "1744  https://twitter.com/dog_rates/status/679158373...                11   \n",
       "\n",
       "      rating_denominator     name doggo floofer  pupper puppo  \n",
       "1825                  10     None  None    None  pupper  None  \n",
       "483                   10   Cooper  None    None  pupper  None  \n",
       "637                   10  Moreton  None    None    None  None  \n",
       "2048                  10  Hammond  None    None    None  None  \n",
       "1744                  10    Rubio  None    None    None  None  "
      ]
     },
     "execution_count": 22,
     "metadata": {},
     "output_type": "execute_result"
    }
   ],
   "source": [
    "# INSPECT VISUALLY\n",
    "df_twitter_archive.sample(5)"
   ]
  },
  {
   "cell_type": "code",
   "execution_count": 23,
   "metadata": {},
   "outputs": [
    {
     "name": "stdout",
     "output_type": "stream",
     "text": [
      "0    This is Phineas. He's a mystical boy. Only ever appears in the hole of a donut. 13/10 https://t.co/MgUWQ76dJU\n",
      "Name: text, dtype: object\n"
     ]
    }
   ],
   "source": [
    "pd.set_option('display.max_colwidth', -1) # for seeing the entire contents of a column\n",
    "print(str(df_twitter_archive.head(1).text))"
   ]
  },
  {
   "cell_type": "code",
   "execution_count": 24,
   "metadata": {},
   "outputs": [
    {
     "name": "stdout",
     "output_type": "stream",
     "text": [
      "0    <a href=\"http://twitter.com/download/iphone\" rel=\"nofollow\">Twitter for iPhone</a>\n",
      "Name: source, dtype: object\n"
     ]
    }
   ],
   "source": [
    "print(str(df_twitter_archive.head(1).source))"
   ]
  },
  {
   "cell_type": "code",
   "execution_count": 25,
   "metadata": {},
   "outputs": [
    {
     "data": {
      "text/plain": [
       "109"
      ]
     },
     "execution_count": 25,
     "metadata": {},
     "output_type": "execute_result"
    }
   ],
   "source": [
    "df_twitter_archive.name.str.islower().sum()"
   ]
  },
  {
   "cell_type": "code",
   "execution_count": 26,
   "metadata": {},
   "outputs": [
    {
     "data": {
      "text/plain": [
       "2"
      ]
     },
     "execution_count": 26,
     "metadata": {},
     "output_type": "execute_result"
    }
   ],
   "source": [
    "df_twitter_archive.name.str.isupper().sum()"
   ]
  },
  {
   "cell_type": "code",
   "execution_count": 27,
   "metadata": {},
   "outputs": [
    {
     "name": "stdout",
     "output_type": "stream",
     "text": [
      "None       745\n",
      "a          55 \n",
      "Charlie    12 \n",
      "Cooper     11 \n",
      "Lucy       11 \n",
      "           .. \n",
      "Comet      1  \n",
      "Andy       1  \n",
      "Ferg       1  \n",
      "Gustav     1  \n",
      "Snicku     1  \n",
      "Name: name, Length: 957, dtype: int64\n"
     ]
    }
   ],
   "source": [
    "print(df_twitter_archive.name.value_counts())"
   ]
  },
  {
   "cell_type": "code",
   "execution_count": 28,
   "metadata": {},
   "outputs": [
    {
     "name": "stdout",
     "output_type": "stream",
     "text": [
      "<a href=\"http://twitter.com/download/iphone\" rel=\"nofollow\">Twitter for iPhone</a>     2221\n",
      "<a href=\"http://vine.co\" rel=\"nofollow\">Vine - Make a Scene</a>                        91  \n",
      "<a href=\"http://twitter.com\" rel=\"nofollow\">Twitter Web Client</a>                     33  \n",
      "<a href=\"https://about.twitter.com/products/tweetdeck\" rel=\"nofollow\">TweetDeck</a>    11  \n",
      "Name: source, dtype: int64\n"
     ]
    }
   ],
   "source": [
    "print(df_twitter_archive.source.value_counts())"
   ]
  },
  {
   "cell_type": "markdown",
   "metadata": {},
   "source": [
    "### <font color=blue> Observation: \n",
    "\n",
    "- The format of the 'source' columns is not human readable due to the anchor tag. From the value distribution, I find that there are only 4 types of sources : \n",
    "    - Twitter for iPhone\n",
    "    - Vine - Make a Scene\n",
    "    - Twitter Web Client and \n",
    "    - TweetDeck.\n",
    "    \n",
    "\n",
    "- The 'name' column has some incorrect names. e.g. 'a' for 55 times ! Also some names start with capital letter (may be these are correct name) while some start with small letter (may be these are incorrect name) **[Consistency issue]**\n",
    "\n",
    "\n",
    "- There are 4 columns (doggo, floofer, pupper, puppo) for dog stage which are actually values of the dog stage. So these 4 columns can be replaced with a single column. **[Tidiness issue]**\n"
   ]
  },
  {
   "cell_type": "markdown",
   "metadata": {},
   "source": [
    "### <center> <font color=brown> Inspecting  `df_img_predictions` dataframe"
   ]
  },
  {
   "cell_type": "code",
   "execution_count": 29,
   "metadata": {},
   "outputs": [
    {
     "name": "stdout",
     "output_type": "stream",
     "text": [
      "<class 'pandas.core.frame.DataFrame'>\n",
      "RangeIndex: 2075 entries, 0 to 2074\n",
      "Data columns (total 12 columns):\n",
      "tweet_id    2075 non-null int64\n",
      "jpg_url     2075 non-null object\n",
      "img_num     2075 non-null int64\n",
      "p1          2075 non-null object\n",
      "p1_conf     2075 non-null float64\n",
      "p1_dog      2075 non-null bool\n",
      "p2          2075 non-null object\n",
      "p2_conf     2075 non-null float64\n",
      "p2_dog      2075 non-null bool\n",
      "p3          2075 non-null object\n",
      "p3_conf     2075 non-null float64\n",
      "p3_dog      2075 non-null bool\n",
      "dtypes: bool(3), float64(3), int64(2), object(4)\n",
      "memory usage: 152.1+ KB\n"
     ]
    }
   ],
   "source": [
    "df_img_predictions.info()"
   ]
  },
  {
   "cell_type": "markdown",
   "metadata": {},
   "source": [
    "### <font color=blue> Observation: \n",
    "- This dataframe has 2075 entris but the previous data frame 'df_twitter_archive' has 2356 entries. That means in this dataframe some tweets are missing. **[Completeness issue]**\n",
    "    \n",
    "    \n",
    "- Some columns are unnecessary for my purpose as I only need the most confident prediction of the dog breed.\n"
   ]
  },
  {
   "cell_type": "code",
   "execution_count": 30,
   "metadata": {},
   "outputs": [
    {
     "data": {
      "text/html": [
       "<div>\n",
       "<style scoped>\n",
       "    .dataframe tbody tr th:only-of-type {\n",
       "        vertical-align: middle;\n",
       "    }\n",
       "\n",
       "    .dataframe tbody tr th {\n",
       "        vertical-align: top;\n",
       "    }\n",
       "\n",
       "    .dataframe thead th {\n",
       "        text-align: right;\n",
       "    }\n",
       "</style>\n",
       "<table border=\"1\" class=\"dataframe\">\n",
       "  <thead>\n",
       "    <tr style=\"text-align: right;\">\n",
       "      <th></th>\n",
       "      <th>tweet_id</th>\n",
       "      <th>img_num</th>\n",
       "      <th>p1_conf</th>\n",
       "      <th>p2_conf</th>\n",
       "      <th>p3_conf</th>\n",
       "    </tr>\n",
       "  </thead>\n",
       "  <tbody>\n",
       "    <tr>\n",
       "      <td>count</td>\n",
       "      <td>2.075000e+03</td>\n",
       "      <td>2075.000000</td>\n",
       "      <td>2075.000000</td>\n",
       "      <td>2.075000e+03</td>\n",
       "      <td>2.075000e+03</td>\n",
       "    </tr>\n",
       "    <tr>\n",
       "      <td>mean</td>\n",
       "      <td>7.384514e+17</td>\n",
       "      <td>1.203855</td>\n",
       "      <td>0.594548</td>\n",
       "      <td>1.345886e-01</td>\n",
       "      <td>6.032417e-02</td>\n",
       "    </tr>\n",
       "    <tr>\n",
       "      <td>std</td>\n",
       "      <td>6.785203e+16</td>\n",
       "      <td>0.561875</td>\n",
       "      <td>0.271174</td>\n",
       "      <td>1.006657e-01</td>\n",
       "      <td>5.090593e-02</td>\n",
       "    </tr>\n",
       "    <tr>\n",
       "      <td>min</td>\n",
       "      <td>6.660209e+17</td>\n",
       "      <td>1.000000</td>\n",
       "      <td>0.044333</td>\n",
       "      <td>1.011300e-08</td>\n",
       "      <td>1.740170e-10</td>\n",
       "    </tr>\n",
       "    <tr>\n",
       "      <td>25%</td>\n",
       "      <td>6.764835e+17</td>\n",
       "      <td>1.000000</td>\n",
       "      <td>0.364412</td>\n",
       "      <td>5.388625e-02</td>\n",
       "      <td>1.622240e-02</td>\n",
       "    </tr>\n",
       "    <tr>\n",
       "      <td>50%</td>\n",
       "      <td>7.119988e+17</td>\n",
       "      <td>1.000000</td>\n",
       "      <td>0.588230</td>\n",
       "      <td>1.181810e-01</td>\n",
       "      <td>4.944380e-02</td>\n",
       "    </tr>\n",
       "    <tr>\n",
       "      <td>75%</td>\n",
       "      <td>7.932034e+17</td>\n",
       "      <td>1.000000</td>\n",
       "      <td>0.843855</td>\n",
       "      <td>1.955655e-01</td>\n",
       "      <td>9.180755e-02</td>\n",
       "    </tr>\n",
       "    <tr>\n",
       "      <td>max</td>\n",
       "      <td>8.924206e+17</td>\n",
       "      <td>4.000000</td>\n",
       "      <td>1.000000</td>\n",
       "      <td>4.880140e-01</td>\n",
       "      <td>2.734190e-01</td>\n",
       "    </tr>\n",
       "  </tbody>\n",
       "</table>\n",
       "</div>"
      ],
      "text/plain": [
       "           tweet_id      img_num      p1_conf       p2_conf       p3_conf\n",
       "count  2.075000e+03  2075.000000  2075.000000  2.075000e+03  2.075000e+03\n",
       "mean   7.384514e+17  1.203855     0.594548     1.345886e-01  6.032417e-02\n",
       "std    6.785203e+16  0.561875     0.271174     1.006657e-01  5.090593e-02\n",
       "min    6.660209e+17  1.000000     0.044333     1.011300e-08  1.740170e-10\n",
       "25%    6.764835e+17  1.000000     0.364412     5.388625e-02  1.622240e-02\n",
       "50%    7.119988e+17  1.000000     0.588230     1.181810e-01  4.944380e-02\n",
       "75%    7.932034e+17  1.000000     0.843855     1.955655e-01  9.180755e-02\n",
       "max    8.924206e+17  4.000000     1.000000     4.880140e-01  2.734190e-01"
      ]
     },
     "execution_count": 30,
     "metadata": {},
     "output_type": "execute_result"
    }
   ],
   "source": [
    "df_img_predictions.describe()"
   ]
  },
  {
   "cell_type": "code",
   "execution_count": 31,
   "metadata": {},
   "outputs": [
    {
     "data": {
      "text/html": [
       "<div>\n",
       "<style scoped>\n",
       "    .dataframe tbody tr th:only-of-type {\n",
       "        vertical-align: middle;\n",
       "    }\n",
       "\n",
       "    .dataframe tbody tr th {\n",
       "        vertical-align: top;\n",
       "    }\n",
       "\n",
       "    .dataframe thead th {\n",
       "        text-align: right;\n",
       "    }\n",
       "</style>\n",
       "<table border=\"1\" class=\"dataframe\">\n",
       "  <thead>\n",
       "    <tr style=\"text-align: right;\">\n",
       "      <th></th>\n",
       "      <th>tweet_id</th>\n",
       "      <th>jpg_url</th>\n",
       "      <th>img_num</th>\n",
       "      <th>p1</th>\n",
       "      <th>p1_conf</th>\n",
       "      <th>p1_dog</th>\n",
       "      <th>p2</th>\n",
       "      <th>p2_conf</th>\n",
       "      <th>p2_dog</th>\n",
       "      <th>p3</th>\n",
       "      <th>p3_conf</th>\n",
       "      <th>p3_dog</th>\n",
       "    </tr>\n",
       "  </thead>\n",
       "  <tbody>\n",
       "    <tr>\n",
       "      <td>2070</td>\n",
       "      <td>891327558926688256</td>\n",
       "      <td>https://pbs.twimg.com/media/DF6hr6BUMAAzZgT.jpg</td>\n",
       "      <td>2</td>\n",
       "      <td>basset</td>\n",
       "      <td>0.555712</td>\n",
       "      <td>True</td>\n",
       "      <td>English_springer</td>\n",
       "      <td>0.225770</td>\n",
       "      <td>True</td>\n",
       "      <td>German_short-haired_pointer</td>\n",
       "      <td>0.175219</td>\n",
       "      <td>True</td>\n",
       "    </tr>\n",
       "    <tr>\n",
       "      <td>2071</td>\n",
       "      <td>891689557279858688</td>\n",
       "      <td>https://pbs.twimg.com/media/DF_q7IAWsAEuuN8.jpg</td>\n",
       "      <td>1</td>\n",
       "      <td>paper_towel</td>\n",
       "      <td>0.170278</td>\n",
       "      <td>False</td>\n",
       "      <td>Labrador_retriever</td>\n",
       "      <td>0.168086</td>\n",
       "      <td>True</td>\n",
       "      <td>spatula</td>\n",
       "      <td>0.040836</td>\n",
       "      <td>False</td>\n",
       "    </tr>\n",
       "    <tr>\n",
       "      <td>2072</td>\n",
       "      <td>891815181378084864</td>\n",
       "      <td>https://pbs.twimg.com/media/DGBdLU1WsAANxJ9.jpg</td>\n",
       "      <td>1</td>\n",
       "      <td>Chihuahua</td>\n",
       "      <td>0.716012</td>\n",
       "      <td>True</td>\n",
       "      <td>malamute</td>\n",
       "      <td>0.078253</td>\n",
       "      <td>True</td>\n",
       "      <td>kelpie</td>\n",
       "      <td>0.031379</td>\n",
       "      <td>True</td>\n",
       "    </tr>\n",
       "    <tr>\n",
       "      <td>2073</td>\n",
       "      <td>892177421306343426</td>\n",
       "      <td>https://pbs.twimg.com/media/DGGmoV4XsAAUL6n.jpg</td>\n",
       "      <td>1</td>\n",
       "      <td>Chihuahua</td>\n",
       "      <td>0.323581</td>\n",
       "      <td>True</td>\n",
       "      <td>Pekinese</td>\n",
       "      <td>0.090647</td>\n",
       "      <td>True</td>\n",
       "      <td>papillon</td>\n",
       "      <td>0.068957</td>\n",
       "      <td>True</td>\n",
       "    </tr>\n",
       "    <tr>\n",
       "      <td>2074</td>\n",
       "      <td>892420643555336193</td>\n",
       "      <td>https://pbs.twimg.com/media/DGKD1-bXoAAIAUK.jpg</td>\n",
       "      <td>1</td>\n",
       "      <td>orange</td>\n",
       "      <td>0.097049</td>\n",
       "      <td>False</td>\n",
       "      <td>bagel</td>\n",
       "      <td>0.085851</td>\n",
       "      <td>False</td>\n",
       "      <td>banana</td>\n",
       "      <td>0.076110</td>\n",
       "      <td>False</td>\n",
       "    </tr>\n",
       "  </tbody>\n",
       "</table>\n",
       "</div>"
      ],
      "text/plain": [
       "                tweet_id                                          jpg_url  \\\n",
       "2070  891327558926688256  https://pbs.twimg.com/media/DF6hr6BUMAAzZgT.jpg   \n",
       "2071  891689557279858688  https://pbs.twimg.com/media/DF_q7IAWsAEuuN8.jpg   \n",
       "2072  891815181378084864  https://pbs.twimg.com/media/DGBdLU1WsAANxJ9.jpg   \n",
       "2073  892177421306343426  https://pbs.twimg.com/media/DGGmoV4XsAAUL6n.jpg   \n",
       "2074  892420643555336193  https://pbs.twimg.com/media/DGKD1-bXoAAIAUK.jpg   \n",
       "\n",
       "      img_num           p1   p1_conf  p1_dog                  p2   p2_conf  \\\n",
       "2070  2        basset       0.555712  True    English_springer    0.225770   \n",
       "2071  1        paper_towel  0.170278  False   Labrador_retriever  0.168086   \n",
       "2072  1        Chihuahua    0.716012  True    malamute            0.078253   \n",
       "2073  1        Chihuahua    0.323581  True    Pekinese            0.090647   \n",
       "2074  1        orange       0.097049  False   bagel               0.085851   \n",
       "\n",
       "      p2_dog                           p3   p3_conf  p3_dog  \n",
       "2070  True    German_short-haired_pointer  0.175219  True    \n",
       "2071  True    spatula                      0.040836  False   \n",
       "2072  True    kelpie                       0.031379  True    \n",
       "2073  True    papillon                     0.068957  True    \n",
       "2074  False   banana                       0.076110  False   "
      ]
     },
     "execution_count": 31,
     "metadata": {},
     "output_type": "execute_result"
    }
   ],
   "source": [
    "df_img_predictions.tail(5)"
   ]
  },
  {
   "cell_type": "code",
   "execution_count": 32,
   "metadata": {},
   "outputs": [
    {
     "data": {
      "text/plain": [
       "golden_retriever      150\n",
       "Labrador_retriever    100\n",
       "Pembroke              89 \n",
       "Chihuahua             83 \n",
       "pug                   57 \n",
       "                      .. \n",
       "maze                  1  \n",
       "water_buffalo         1  \n",
       "lorikeet              1  \n",
       "microphone            1  \n",
       "cup                   1  \n",
       "Name: p1, Length: 378, dtype: int64"
      ]
     },
     "execution_count": 32,
     "metadata": {},
     "output_type": "execute_result"
    }
   ],
   "source": [
    "df_img_predictions.p1.value_counts()"
   ]
  },
  {
   "cell_type": "code",
   "execution_count": 33,
   "metadata": {},
   "outputs": [
    {
     "data": {
      "text/plain": [
       "Labrador_retriever    104\n",
       "golden_retriever      92 \n",
       "Cardigan              73 \n",
       "Chihuahua             44 \n",
       "Pomeranian            42 \n",
       "                      .. \n",
       "accordion             1  \n",
       "komondor              1  \n",
       "spotlight             1  \n",
       "iPod                  1  \n",
       "comic_book            1  \n",
       "Name: p2, Length: 405, dtype: int64"
      ]
     },
     "execution_count": 33,
     "metadata": {},
     "output_type": "execute_result"
    }
   ],
   "source": [
    "df_img_predictions.p2.value_counts()"
   ]
  },
  {
   "cell_type": "code",
   "execution_count": 34,
   "metadata": {},
   "outputs": [
    {
     "data": {
      "text/plain": [
       "Labrador_retriever    79\n",
       "Chihuahua             58\n",
       "golden_retriever      48\n",
       "Eskimo_dog            38\n",
       "kelpie                35\n",
       "                      ..\n",
       "orangutan             1 \n",
       "barber_chair          1 \n",
       "maze                  1 \n",
       "boathouse             1 \n",
       "great_grey_owl        1 \n",
       "Name: p3, Length: 408, dtype: int64"
      ]
     },
     "execution_count": 34,
     "metadata": {},
     "output_type": "execute_result"
    }
   ],
   "source": [
    "df_img_predictions.p3.value_counts()"
   ]
  },
  {
   "cell_type": "markdown",
   "metadata": {},
   "source": [
    "### <font color=blue> Observation: \n",
    "\n",
    "- Some predctions are wrong like in some images they predict other objects instead of the dog. In the tweet id '892420643555336193' I find that there is a dog and a bagel. But all three predictions are wrong."
   ]
  },
  {
   "cell_type": "markdown",
   "metadata": {},
   "source": [
    "### <center> <font color=brown> Inspecting `df_twitter_api` dataframe\n",
    "    "
   ]
  },
  {
   "cell_type": "code",
   "execution_count": 35,
   "metadata": {},
   "outputs": [
    {
     "name": "stdout",
     "output_type": "stream",
     "text": [
      "<class 'pandas.core.frame.DataFrame'>\n",
      "RangeIndex: 2331 entries, 0 to 2330\n",
      "Data columns (total 6 columns):\n",
      "id                    2331 non-null int64\n",
      "retweet_count         2331 non-null int64\n",
      "favorite_count        2331 non-null int64\n",
      "display_text_range    2331 non-null object\n",
      "lang                  2331 non-null object\n",
      "place                 1 non-null object\n",
      "dtypes: int64(3), object(3)\n",
      "memory usage: 109.4+ KB\n"
     ]
    }
   ],
   "source": [
    "df_twitter_api.info()"
   ]
  },
  {
   "cell_type": "markdown",
   "metadata": {},
   "source": [
    "### <font color=blue> Observation: \n",
    "- This dataframe has 2331 entries. But there are 2356 entries in the archive tweets file. There are 25 missing tweets for which I have no retweet count and favorite count.\n",
    "    \n",
    "- The place columns has only 1 entry so it is not useful for our analysis purpose.\n",
    "\n",
    "- I have total 3 dataframes which have one common column tweet id (or id). So, I can merge three dataframes into a single dataframe. **[Tidiness issue]**"
   ]
  },
  {
   "cell_type": "code",
   "execution_count": 36,
   "metadata": {},
   "outputs": [
    {
     "data": {
      "text/html": [
       "<div>\n",
       "<style scoped>\n",
       "    .dataframe tbody tr th:only-of-type {\n",
       "        vertical-align: middle;\n",
       "    }\n",
       "\n",
       "    .dataframe tbody tr th {\n",
       "        vertical-align: top;\n",
       "    }\n",
       "\n",
       "    .dataframe thead th {\n",
       "        text-align: right;\n",
       "    }\n",
       "</style>\n",
       "<table border=\"1\" class=\"dataframe\">\n",
       "  <thead>\n",
       "    <tr style=\"text-align: right;\">\n",
       "      <th></th>\n",
       "      <th>id</th>\n",
       "      <th>retweet_count</th>\n",
       "      <th>favorite_count</th>\n",
       "    </tr>\n",
       "  </thead>\n",
       "  <tbody>\n",
       "    <tr>\n",
       "      <td>count</td>\n",
       "      <td>2.331000e+03</td>\n",
       "      <td>2331.000000</td>\n",
       "      <td>2331.000000</td>\n",
       "    </tr>\n",
       "    <tr>\n",
       "      <td>mean</td>\n",
       "      <td>7.419079e+17</td>\n",
       "      <td>2716.172887</td>\n",
       "      <td>7594.350922</td>\n",
       "    </tr>\n",
       "    <tr>\n",
       "      <td>std</td>\n",
       "      <td>6.823170e+16</td>\n",
       "      <td>4594.144209</td>\n",
       "      <td>11783.800814</td>\n",
       "    </tr>\n",
       "    <tr>\n",
       "      <td>min</td>\n",
       "      <td>6.660209e+17</td>\n",
       "      <td>1.000000</td>\n",
       "      <td>0.000000</td>\n",
       "    </tr>\n",
       "    <tr>\n",
       "      <td>25%</td>\n",
       "      <td>6.782670e+17</td>\n",
       "      <td>548.500000</td>\n",
       "      <td>1324.000000</td>\n",
       "    </tr>\n",
       "    <tr>\n",
       "      <td>50%</td>\n",
       "      <td>7.182469e+17</td>\n",
       "      <td>1275.000000</td>\n",
       "      <td>3307.000000</td>\n",
       "    </tr>\n",
       "    <tr>\n",
       "      <td>75%</td>\n",
       "      <td>7.986692e+17</td>\n",
       "      <td>3155.500000</td>\n",
       "      <td>9304.500000</td>\n",
       "    </tr>\n",
       "    <tr>\n",
       "      <td>max</td>\n",
       "      <td>8.924206e+17</td>\n",
       "      <td>78205.000000</td>\n",
       "      <td>156950.000000</td>\n",
       "    </tr>\n",
       "  </tbody>\n",
       "</table>\n",
       "</div>"
      ],
      "text/plain": [
       "                 id  retweet_count  favorite_count\n",
       "count  2.331000e+03  2331.000000    2331.000000   \n",
       "mean   7.419079e+17  2716.172887    7594.350922   \n",
       "std    6.823170e+16  4594.144209    11783.800814  \n",
       "min    6.660209e+17  1.000000       0.000000      \n",
       "25%    6.782670e+17  548.500000     1324.000000   \n",
       "50%    7.182469e+17  1275.000000    3307.000000   \n",
       "75%    7.986692e+17  3155.500000    9304.500000   \n",
       "max    8.924206e+17  78205.000000   156950.000000 "
      ]
     },
     "execution_count": 36,
     "metadata": {},
     "output_type": "execute_result"
    }
   ],
   "source": [
    "df_twitter_api.describe()"
   ]
  },
  {
   "cell_type": "code",
   "execution_count": 37,
   "metadata": {},
   "outputs": [
    {
     "data": {
      "text/html": [
       "<div>\n",
       "<style scoped>\n",
       "    .dataframe tbody tr th:only-of-type {\n",
       "        vertical-align: middle;\n",
       "    }\n",
       "\n",
       "    .dataframe tbody tr th {\n",
       "        vertical-align: top;\n",
       "    }\n",
       "\n",
       "    .dataframe thead th {\n",
       "        text-align: right;\n",
       "    }\n",
       "</style>\n",
       "<table border=\"1\" class=\"dataframe\">\n",
       "  <thead>\n",
       "    <tr style=\"text-align: right;\">\n",
       "      <th></th>\n",
       "      <th>id</th>\n",
       "      <th>retweet_count</th>\n",
       "      <th>favorite_count</th>\n",
       "      <th>display_text_range</th>\n",
       "      <th>lang</th>\n",
       "      <th>place</th>\n",
       "    </tr>\n",
       "  </thead>\n",
       "  <tbody>\n",
       "    <tr>\n",
       "      <td>620</td>\n",
       "      <td>793271401113350145</td>\n",
       "      <td>2460</td>\n",
       "      <td>8923</td>\n",
       "      <td>[0, 118]</td>\n",
       "      <td>en</td>\n",
       "      <td>None</td>\n",
       "    </tr>\n",
       "    <tr>\n",
       "      <td>672</td>\n",
       "      <td>787397959788929025</td>\n",
       "      <td>2911</td>\n",
       "      <td>11137</td>\n",
       "      <td>[0, 107]</td>\n",
       "      <td>en</td>\n",
       "      <td>None</td>\n",
       "    </tr>\n",
       "    <tr>\n",
       "      <td>1447</td>\n",
       "      <td>693993230313091072</td>\n",
       "      <td>402</td>\n",
       "      <td>1881</td>\n",
       "      <td>[0, 125]</td>\n",
       "      <td>en</td>\n",
       "      <td>None</td>\n",
       "    </tr>\n",
       "    <tr>\n",
       "      <td>467</td>\n",
       "      <td>814986499976527872</td>\n",
       "      <td>1310</td>\n",
       "      <td>7814</td>\n",
       "      <td>[0, 93]</td>\n",
       "      <td>en</td>\n",
       "      <td>None</td>\n",
       "    </tr>\n",
       "    <tr>\n",
       "      <td>1780</td>\n",
       "      <td>676942428000112642</td>\n",
       "      <td>739</td>\n",
       "      <td>2050</td>\n",
       "      <td>[0, 76]</td>\n",
       "      <td>en</td>\n",
       "      <td>None</td>\n",
       "    </tr>\n",
       "  </tbody>\n",
       "</table>\n",
       "</div>"
      ],
      "text/plain": [
       "                      id  retweet_count  favorite_count display_text_range  \\\n",
       "620   793271401113350145  2460           8923            [0, 118]            \n",
       "672   787397959788929025  2911           11137           [0, 107]            \n",
       "1447  693993230313091072  402            1881            [0, 125]            \n",
       "467   814986499976527872  1310           7814            [0, 93]             \n",
       "1780  676942428000112642  739            2050            [0, 76]             \n",
       "\n",
       "     lang place  \n",
       "620   en   None  \n",
       "672   en   None  \n",
       "1447  en   None  \n",
       "467   en   None  \n",
       "1780  en   None  "
      ]
     },
     "execution_count": 37,
     "metadata": {},
     "output_type": "execute_result"
    }
   ],
   "source": [
    "df_twitter_api.sample(5)"
   ]
  },
  {
   "cell_type": "markdown",
   "metadata": {},
   "source": [
    "## <center> Summary of my data assessment :"
   ]
  },
  {
   "cell_type": "markdown",
   "metadata": {},
   "source": [
    "###  <center> <font color=darkorange> Quality Issues: "
   ]
  },
  {
   "cell_type": "markdown",
   "metadata": {},
   "source": [
    "**Issue 01:** I need those tweets having images. But there are some tweets having no image which I find from the <font color=blue>expanded_urls</font> column. There are 2297 entries in this column. So, missing images for 59 tweets. Any tweets without images should be removed.\n",
    "\n",
    "**Issue 02:** The datatype of the column <font color=blue>timestamp</font> is not correct.\n",
    "\n",
    "**Issue 03:** <font color=blue>retweeted_status_id</font> has 181 entries which means these 181 tweets are retweets (not original tweets). I should remove these tweets from my analysis.\n",
    "\n",
    "\n",
    "**Issue 04:** Some columns are actually not necessary for analysis purpose. e.g. retweeted_status_id, retweeted_status_user_id, retweeted_status_timestamp. I prefer to remove these columns\n",
    "\n",
    "\n",
    "**Issue 05:** The value for the column <font color=blue>rating_denominator</font> should be always 10. But I see that the mean is 10.46 and the max value is 170 which means there are some wrong entries in this column\n",
    "\n",
    "**Issue 06:** The max value for the column <font color=blue>rating_numerator</font> is 1776 and mean value is 13.13 which means the max value is an outlier. The rating 1776 is incorrect. So, the column has some incorrect values.\n",
    "\n",
    "**Issue 07:** Make the contents of the column <font color=blue>source</font> human readable by change the long url links to specific words which are part of the anchor tag.  From the value distribution, I find that there are only 4 types of sources :\n",
    "- Twitter for iPhone\n",
    "- Vine - Make a Scene\n",
    "- Twitter Web Client and\n",
    "- TweetDeck.\n",
    "\n",
    "**Issue 08:** The <font color=blue>name</font> column has some incorrect names. e.g. 'a' for 55 times ! \n",
    "\n",
    "**Issue 09:** Also some names start with capital letter while some start with small letter in the column <font color=blue>name</font>.\n",
    "\n",
    "**Issue 10:** Column names are not clear and straightforward in `df_img_predictions` dataframe such as p1,p2.\n",
    "\n",
    "**Issue 11:** Prediction of dog breeds involve both uppercase and lowercase for the first letter. e.g. \n",
    "Labrador_retriever, golden_retriever etc."
   ]
  },
  {
   "cell_type": "markdown",
   "metadata": {},
   "source": [
    "### <center>  <font color=darkorange> Tidiness Issues: "
   ]
  },
  {
   "cell_type": "markdown",
   "metadata": {},
   "source": [
    "**Issue 01:** There are 4 columns (doggo, floofer, pupper, puppo) for dog stage which are actually values of the dog stage. So these 4 columns can be replaced with a single column - **dog_stage**\n",
    "\n",
    "**Issue 02:** I have total 3 dataframes which have one common column tweet id (or id). So, I can merge three dataframes into a single dataframe."
   ]
  },
  {
   "cell_type": "markdown",
   "metadata": {},
   "source": [
    "# <center> <font color=blue> DATA CLEANING</font>"
   ]
  },
  {
   "cell_type": "code",
   "execution_count": 38,
   "metadata": {},
   "outputs": [],
   "source": [
    "# create copies of the dataframes for cleaning purpose\n",
    "df_1 = df_twitter_archive.copy()\n",
    "df_2 = df_img_predictions.copy()\n",
    "df_3 = df_twitter_api.copy()"
   ]
  },
  {
   "cell_type": "markdown",
   "metadata": {},
   "source": [
    "## <font color=brown> Tidiness- Issue 01 : </font>"
   ]
  },
  {
   "cell_type": "markdown",
   "metadata": {},
   "source": [
    "#### Define"
   ]
  },
  {
   "cell_type": "markdown",
   "metadata": {},
   "source": [
    "Create a new column `dog_stage`, remove individual dog stage columns and fill the empty value with NaN."
   ]
  },
  {
   "cell_type": "markdown",
   "metadata": {},
   "source": [
    "#### Code"
   ]
  },
  {
   "cell_type": "code",
   "execution_count": 39,
   "metadata": {},
   "outputs": [],
   "source": [
    "stages = ['doggo','pupper', 'floofer', 'puppo' ]\n",
    "for stage in stages:\n",
    "    df_1[stage] = df_1[stage].replace('None','')"
   ]
  },
  {
   "cell_type": "code",
   "execution_count": 40,
   "metadata": {},
   "outputs": [],
   "source": [
    "df_1['dog_stage'] = df_1['doggo'].str.cat(df_1[['pupper', 'floofer','puppo']].astype(str),sep='')"
   ]
  },
  {
   "cell_type": "code",
   "execution_count": 41,
   "metadata": {},
   "outputs": [
    {
     "data": {
      "text/html": [
       "<div>\n",
       "<style scoped>\n",
       "    .dataframe tbody tr th:only-of-type {\n",
       "        vertical-align: middle;\n",
       "    }\n",
       "\n",
       "    .dataframe tbody tr th {\n",
       "        vertical-align: top;\n",
       "    }\n",
       "\n",
       "    .dataframe thead th {\n",
       "        text-align: right;\n",
       "    }\n",
       "</style>\n",
       "<table border=\"1\" class=\"dataframe\">\n",
       "  <thead>\n",
       "    <tr style=\"text-align: right;\">\n",
       "      <th></th>\n",
       "      <th>tweet_id</th>\n",
       "      <th>doggo</th>\n",
       "      <th>pupper</th>\n",
       "      <th>floofer</th>\n",
       "      <th>puppo</th>\n",
       "      <th>dog_stage</th>\n",
       "    </tr>\n",
       "  </thead>\n",
       "  <tbody>\n",
       "    <tr>\n",
       "      <td>97</td>\n",
       "      <td>873337748698140672</td>\n",
       "      <td></td>\n",
       "      <td>pupper</td>\n",
       "      <td></td>\n",
       "      <td></td>\n",
       "      <td>pupper</td>\n",
       "    </tr>\n",
       "    <tr>\n",
       "      <td>98</td>\n",
       "      <td>873213775632977920</td>\n",
       "      <td></td>\n",
       "      <td>pupper</td>\n",
       "      <td></td>\n",
       "      <td></td>\n",
       "      <td>pupper</td>\n",
       "    </tr>\n",
       "    <tr>\n",
       "      <td>99</td>\n",
       "      <td>872967104147763200</td>\n",
       "      <td>doggo</td>\n",
       "      <td></td>\n",
       "      <td></td>\n",
       "      <td></td>\n",
       "      <td>doggo</td>\n",
       "    </tr>\n",
       "  </tbody>\n",
       "</table>\n",
       "</div>"
      ],
      "text/plain": [
       "              tweet_id  doggo  pupper floofer puppo dog_stage\n",
       "97  873337748698140672         pupper                pupper  \n",
       "98  873213775632977920         pupper                pupper  \n",
       "99  872967104147763200  doggo                        doggo   "
      ]
     },
     "execution_count": 41,
     "metadata": {},
     "output_type": "execute_result"
    }
   ],
   "source": [
    "df_1.head(100).tail(3)[['tweet_id','doggo','pupper', 'floofer', 'puppo','dog_stage']]"
   ]
  },
  {
   "cell_type": "code",
   "execution_count": 42,
   "metadata": {},
   "outputs": [],
   "source": [
    "df_1 = df_1.drop(stages, axis = 1) # drop the 4 columns\n",
    "df_1['dog_stage'] = df_1['dog_stage'].replace('', np.nan)"
   ]
  },
  {
   "cell_type": "markdown",
   "metadata": {},
   "source": [
    "#### Test"
   ]
  },
  {
   "cell_type": "code",
   "execution_count": 43,
   "metadata": {},
   "outputs": [
    {
     "data": {
      "text/html": [
       "<div>\n",
       "<style scoped>\n",
       "    .dataframe tbody tr th:only-of-type {\n",
       "        vertical-align: middle;\n",
       "    }\n",
       "\n",
       "    .dataframe tbody tr th {\n",
       "        vertical-align: top;\n",
       "    }\n",
       "\n",
       "    .dataframe thead th {\n",
       "        text-align: right;\n",
       "    }\n",
       "</style>\n",
       "<table border=\"1\" class=\"dataframe\">\n",
       "  <thead>\n",
       "    <tr style=\"text-align: right;\">\n",
       "      <th></th>\n",
       "      <th>tweet_id</th>\n",
       "      <th>dog_stage</th>\n",
       "    </tr>\n",
       "  </thead>\n",
       "  <tbody>\n",
       "    <tr>\n",
       "      <td>97</td>\n",
       "      <td>873337748698140672</td>\n",
       "      <td>pupper</td>\n",
       "    </tr>\n",
       "    <tr>\n",
       "      <td>98</td>\n",
       "      <td>873213775632977920</td>\n",
       "      <td>pupper</td>\n",
       "    </tr>\n",
       "    <tr>\n",
       "      <td>99</td>\n",
       "      <td>872967104147763200</td>\n",
       "      <td>doggo</td>\n",
       "    </tr>\n",
       "  </tbody>\n",
       "</table>\n",
       "</div>"
      ],
      "text/plain": [
       "              tweet_id dog_stage\n",
       "97  873337748698140672  pupper  \n",
       "98  873213775632977920  pupper  \n",
       "99  872967104147763200  doggo   "
      ]
     },
     "execution_count": 43,
     "metadata": {},
     "output_type": "execute_result"
    }
   ],
   "source": [
    "df_1.head(100).tail(3)[['tweet_id','dog_stage']]"
   ]
  },
  {
   "cell_type": "markdown",
   "metadata": {},
   "source": [
    "## <font color=brown> Tidiness- Issue 02 : </font>"
   ]
  },
  {
   "cell_type": "markdown",
   "metadata": {},
   "source": [
    "#### Define "
   ]
  },
  {
   "cell_type": "markdown",
   "metadata": {},
   "source": [
    "Merge 3 dataframes into a single master dataframe using the common column twitter_id (or id)"
   ]
  },
  {
   "cell_type": "markdown",
   "metadata": {},
   "source": [
    "#### Code"
   ]
  },
  {
   "cell_type": "code",
   "execution_count": 44,
   "metadata": {},
   "outputs": [
    {
     "name": "stdout",
     "output_type": "stream",
     "text": [
      "No of rows in dataframe 01:  2356\n",
      "No of rows in dataframe 02:  2075\n",
      "No of rows in dataframe 03:  2331\n"
     ]
    }
   ],
   "source": [
    "print(\"No of rows in dataframe 01: \",df_1.tweet_id.count()) # df_twitter_archive_clean\n",
    "print(\"No of rows in dataframe 02: \",df_2.tweet_id.count()) # df_img_predictions_clean\n",
    "print(\"No of rows in dataframe 03: \",df_3.id.count()) # df_twitter_api_clean"
   ]
  },
  {
   "cell_type": "code",
   "execution_count": 45,
   "metadata": {},
   "outputs": [
    {
     "name": "stdout",
     "output_type": "stream",
     "text": [
      "No of rows after merging:  2075\n",
      "No of rows after merging:  2059\n"
     ]
    }
   ],
   "source": [
    "df_merged = df_1.merge(df_2, on='tweet_id', how='inner')\n",
    "print(\"No of rows after merging: \",df_merged.tweet_id.count())\n",
    "\n",
    "df_merged = pd.merge(left=df_merged, right=df_3, left_on='tweet_id', right_on='id', how='inner')\n",
    "print(\"No of rows after merging: \",df_merged.tweet_id.count())\n",
    "\n",
    "df_merged = df_merged.drop('id', axis=1)"
   ]
  },
  {
   "cell_type": "markdown",
   "metadata": {},
   "source": [
    "#### Test"
   ]
  },
  {
   "cell_type": "code",
   "execution_count": 46,
   "metadata": {},
   "outputs": [
    {
     "name": "stdout",
     "output_type": "stream",
     "text": [
      "<class 'pandas.core.frame.DataFrame'>\n",
      "Int64Index: 2059 entries, 0 to 2058\n",
      "Data columns (total 30 columns):\n",
      "tweet_id                      2059 non-null int64\n",
      "in_reply_to_status_id         23 non-null float64\n",
      "in_reply_to_user_id           23 non-null float64\n",
      "timestamp                     2059 non-null object\n",
      "source                        2059 non-null object\n",
      "text                          2059 non-null object\n",
      "retweeted_status_id           72 non-null float64\n",
      "retweeted_status_user_id      72 non-null float64\n",
      "retweeted_status_timestamp    72 non-null object\n",
      "expanded_urls                 2059 non-null object\n",
      "rating_numerator              2059 non-null int64\n",
      "rating_denominator            2059 non-null int64\n",
      "name                          2059 non-null object\n",
      "dog_stage                     318 non-null object\n",
      "jpg_url                       2059 non-null object\n",
      "img_num                       2059 non-null int64\n",
      "p1                            2059 non-null object\n",
      "p1_conf                       2059 non-null float64\n",
      "p1_dog                        2059 non-null bool\n",
      "p2                            2059 non-null object\n",
      "p2_conf                       2059 non-null float64\n",
      "p2_dog                        2059 non-null bool\n",
      "p3                            2059 non-null object\n",
      "p3_conf                       2059 non-null float64\n",
      "p3_dog                        2059 non-null bool\n",
      "retweet_count                 2059 non-null int64\n",
      "favorite_count                2059 non-null int64\n",
      "display_text_range            2059 non-null object\n",
      "lang                          2059 non-null object\n",
      "place                         1 non-null object\n",
      "dtypes: bool(3), float64(7), int64(6), object(14)\n",
      "memory usage: 456.4+ KB\n"
     ]
    }
   ],
   "source": [
    "df_merged.info()"
   ]
  },
  {
   "cell_type": "markdown",
   "metadata": {},
   "source": [
    "## <font color=brown> Quality- Issue 01 : </font>"
   ]
  },
  {
   "cell_type": "markdown",
   "metadata": {},
   "source": [
    "#### Define"
   ]
  },
  {
   "cell_type": "markdown",
   "metadata": {},
   "source": [
    "Remove the tweets where there are no images ('expanded_urls' column has 'NaN' value). "
   ]
  },
  {
   "cell_type": "markdown",
   "metadata": {},
   "source": [
    "#### Code"
   ]
  },
  {
   "cell_type": "code",
   "execution_count": 47,
   "metadata": {},
   "outputs": [],
   "source": [
    "df_merged = df_merged.dropna(subset=['expanded_urls'])"
   ]
  },
  {
   "cell_type": "markdown",
   "metadata": {},
   "source": [
    "#### Test"
   ]
  },
  {
   "cell_type": "code",
   "execution_count": 48,
   "metadata": {},
   "outputs": [
    {
     "data": {
      "text/plain": [
       "0"
      ]
     },
     "execution_count": 48,
     "metadata": {},
     "output_type": "execute_result"
    }
   ],
   "source": [
    "df_merged.expanded_urls.isnull().sum()"
   ]
  },
  {
   "cell_type": "code",
   "execution_count": 49,
   "metadata": {},
   "outputs": [
    {
     "data": {
      "text/plain": [
       "2059"
      ]
     },
     "execution_count": 49,
     "metadata": {},
     "output_type": "execute_result"
    }
   ],
   "source": [
    "df_merged.expanded_urls.count()"
   ]
  },
  {
   "cell_type": "markdown",
   "metadata": {},
   "source": [
    "## <font color=brown> Quality- Issue 02 : </font>"
   ]
  },
  {
   "cell_type": "markdown",
   "metadata": {},
   "source": [
    "#### Define"
   ]
  },
  {
   "cell_type": "markdown",
   "metadata": {},
   "source": [
    "Update the datatype of 'timestamp' to datetime"
   ]
  },
  {
   "cell_type": "markdown",
   "metadata": {},
   "source": [
    "#### Code"
   ]
  },
  {
   "cell_type": "code",
   "execution_count": 50,
   "metadata": {},
   "outputs": [],
   "source": [
    "df_merged['timestamp'] = pd.to_datetime(df_merged['timestamp'])"
   ]
  },
  {
   "cell_type": "markdown",
   "metadata": {},
   "source": [
    "#### Test"
   ]
  },
  {
   "cell_type": "code",
   "execution_count": 51,
   "metadata": {},
   "outputs": [
    {
     "data": {
      "text/plain": [
       "0   2017-08-01 16:23:56+00:00\n",
       "1   2017-08-01 00:17:27+00:00\n",
       "Name: timestamp, dtype: datetime64[ns, UTC]"
      ]
     },
     "execution_count": 51,
     "metadata": {},
     "output_type": "execute_result"
    }
   ],
   "source": [
    "df_merged['timestamp'].head(2)"
   ]
  },
  {
   "cell_type": "markdown",
   "metadata": {},
   "source": [
    "## <font color=brown> Quality- Issue 03 : </font>"
   ]
  },
  {
   "cell_type": "markdown",
   "metadata": {},
   "source": [
    "#### Define"
   ]
  },
  {
   "cell_type": "markdown",
   "metadata": {},
   "source": [
    "Remove the retweets"
   ]
  },
  {
   "cell_type": "markdown",
   "metadata": {},
   "source": [
    "#### Code"
   ]
  },
  {
   "cell_type": "code",
   "execution_count": 52,
   "metadata": {},
   "outputs": [],
   "source": [
    "df_merged = df_merged[df_merged['retweeted_status_id'].isnull()]"
   ]
  },
  {
   "cell_type": "markdown",
   "metadata": {},
   "source": [
    "#### Test"
   ]
  },
  {
   "cell_type": "code",
   "execution_count": 53,
   "metadata": {},
   "outputs": [
    {
     "name": "stdout",
     "output_type": "stream",
     "text": [
      "<class 'pandas.core.frame.DataFrame'>\n",
      "Int64Index: 1987 entries, 0 to 2058\n",
      "Data columns (total 30 columns):\n",
      "tweet_id                      1987 non-null int64\n",
      "in_reply_to_status_id         23 non-null float64\n",
      "in_reply_to_user_id           23 non-null float64\n",
      "timestamp                     1987 non-null datetime64[ns, UTC]\n",
      "source                        1987 non-null object\n",
      "text                          1987 non-null object\n",
      "retweeted_status_id           0 non-null float64\n",
      "retweeted_status_user_id      0 non-null float64\n",
      "retweeted_status_timestamp    0 non-null object\n",
      "expanded_urls                 1987 non-null object\n",
      "rating_numerator              1987 non-null int64\n",
      "rating_denominator            1987 non-null int64\n",
      "name                          1987 non-null object\n",
      "dog_stage                     305 non-null object\n",
      "jpg_url                       1987 non-null object\n",
      "img_num                       1987 non-null int64\n",
      "p1                            1987 non-null object\n",
      "p1_conf                       1987 non-null float64\n",
      "p1_dog                        1987 non-null bool\n",
      "p2                            1987 non-null object\n",
      "p2_conf                       1987 non-null float64\n",
      "p2_dog                        1987 non-null bool\n",
      "p3                            1987 non-null object\n",
      "p3_conf                       1987 non-null float64\n",
      "p3_dog                        1987 non-null bool\n",
      "retweet_count                 1987 non-null int64\n",
      "favorite_count                1987 non-null int64\n",
      "display_text_range            1987 non-null object\n",
      "lang                          1987 non-null object\n",
      "place                         1 non-null object\n",
      "dtypes: bool(3), datetime64[ns, UTC](1), float64(7), int64(6), object(13)\n",
      "memory usage: 440.5+ KB\n"
     ]
    }
   ],
   "source": [
    "df_merged.info()"
   ]
  },
  {
   "cell_type": "markdown",
   "metadata": {},
   "source": [
    "## <font color=brown> Quality- Issue 04 : </font>"
   ]
  },
  {
   "cell_type": "markdown",
   "metadata": {},
   "source": [
    "#### Define"
   ]
  },
  {
   "cell_type": "markdown",
   "metadata": {},
   "source": [
    "Remove all unnecessary columns. For example: 'retweeted_status_id', 'retweeted_status_user_id', 'retweeted_status_timestamp', 'in_reply_to_status_id', 'in_reply_to_user_id', 'in_reply_to_user_id.\n",
    "\n",
    "'retweeted_status_id' is not need any more as I already removed the retweets using this column."
   ]
  },
  {
   "cell_type": "markdown",
   "metadata": {},
   "source": [
    "#### Code"
   ]
  },
  {
   "cell_type": "code",
   "execution_count": 54,
   "metadata": {},
   "outputs": [
    {
     "name": "stdout",
     "output_type": "stream",
     "text": [
      "Columns before removing unnecessary columns:  30\n"
     ]
    }
   ],
   "source": [
    "all_col = list(df_merged.columns)\n",
    "print(\"Columns before removing unnecessary columns: \",len(all_col))\n",
    "\n",
    "columns = ['retweeted_status_id', 'retweeted_status_user_id', 'retweeted_status_timestamp','in_reply_to_status_id','in_reply_to_user_id']\n",
    "\n",
    "for col in columns:\n",
    "    if col in all_col:\n",
    "        df_merged = df_merged.drop(col, axis=1)"
   ]
  },
  {
   "cell_type": "markdown",
   "metadata": {},
   "source": [
    "#### Test"
   ]
  },
  {
   "cell_type": "code",
   "execution_count": 55,
   "metadata": {},
   "outputs": [
    {
     "name": "stdout",
     "output_type": "stream",
     "text": [
      "['tweet_id', 'timestamp', 'source', 'text', 'expanded_urls', 'rating_numerator', 'rating_denominator', 'name', 'dog_stage', 'jpg_url', 'img_num', 'p1', 'p1_conf', 'p1_dog', 'p2', 'p2_conf', 'p2_dog', 'p3', 'p3_conf', 'p3_dog', 'retweet_count', 'favorite_count', 'display_text_range', 'lang', 'place']\n",
      "Columns after removing unnecessary columns:  25\n"
     ]
    }
   ],
   "source": [
    "print(list(df_merged.columns))\n",
    "print(\"Columns after removing unnecessary columns: \",len(list(df_merged.columns)))"
   ]
  },
  {
   "cell_type": "markdown",
   "metadata": {},
   "source": [
    "## <font color=brown> Quality- Issue 05 : </font>"
   ]
  },
  {
   "cell_type": "markdown",
   "metadata": {},
   "source": [
    "#### Define"
   ]
  },
  {
   "cell_type": "markdown",
   "metadata": {},
   "source": [
    "The value for the column rating_denominator should be always 10. But I see that the mean is 10.46 and the max value is 170 which means there are some wrong entries in this column. Correct the incorrect values based on the corresponding text of the tweet."
   ]
  },
  {
   "cell_type": "markdown",
   "metadata": {},
   "source": [
    "#### Code"
   ]
  },
  {
   "cell_type": "code",
   "execution_count": 56,
   "metadata": {},
   "outputs": [
    {
     "data": {
      "text/plain": [
       "10     1969\n",
       "50     3   \n",
       "80     2   \n",
       "11     2   \n",
       "170    1   \n",
       "150    1   \n",
       "130    1   \n",
       "120    1   \n",
       "110    1   \n",
       "90     1   \n",
       "70     1   \n",
       "40     1   \n",
       "20     1   \n",
       "7      1   \n",
       "2      1   \n",
       "Name: rating_denominator, dtype: int64"
      ]
     },
     "execution_count": 56,
     "metadata": {},
     "output_type": "execute_result"
    }
   ],
   "source": [
    "df_merged.rating_denominator.value_counts()"
   ]
  },
  {
   "cell_type": "code",
   "execution_count": 57,
   "metadata": {},
   "outputs": [
    {
     "data": {
      "text/plain": [
       "18"
      ]
     },
     "execution_count": 57,
     "metadata": {},
     "output_type": "execute_result"
    }
   ],
   "source": [
    "df_temp = df_merged[df_merged['rating_denominator'] != 10]\n",
    "df_temp.tweet_id.count() # no of tweets having wrong denominator (rating)"
   ]
  },
  {
   "cell_type": "code",
   "execution_count": 58,
   "metadata": {},
   "outputs": [
    {
     "data": {
      "text/html": [
       "<div>\n",
       "<style scoped>\n",
       "    .dataframe tbody tr th:only-of-type {\n",
       "        vertical-align: middle;\n",
       "    }\n",
       "\n",
       "    .dataframe tbody tr th {\n",
       "        vertical-align: top;\n",
       "    }\n",
       "\n",
       "    .dataframe thead th {\n",
       "        text-align: right;\n",
       "    }\n",
       "</style>\n",
       "<table border=\"1\" class=\"dataframe\">\n",
       "  <thead>\n",
       "    <tr style=\"text-align: right;\">\n",
       "      <th></th>\n",
       "      <th>tweet_id</th>\n",
       "      <th>text</th>\n",
       "      <th>rating_numerator</th>\n",
       "      <th>rating_denominator</th>\n",
       "    </tr>\n",
       "  </thead>\n",
       "  <tbody>\n",
       "    <tr>\n",
       "      <td>336</td>\n",
       "      <td>820690176645140481</td>\n",
       "      <td>The floofs have been released I repeat the floofs have been released. 84/70 https://t.co/NIYC820tmd</td>\n",
       "      <td>84</td>\n",
       "      <td>70</td>\n",
       "    </tr>\n",
       "    <tr>\n",
       "      <td>406</td>\n",
       "      <td>810984652412424192</td>\n",
       "      <td>Meet Sam. She smiles 24/7 &amp;amp; secretly aspires to be a reindeer. \\nKeep Sam smiling by clicking and sharing this link:\\nhttps://t.co/98tB8y7y7t https://t.co/LouL5vdvxx</td>\n",
       "      <td>24</td>\n",
       "      <td>7</td>\n",
       "    </tr>\n",
       "    <tr>\n",
       "      <td>722</td>\n",
       "      <td>758467244762497024</td>\n",
       "      <td>Why does this never happen at my front door... 165/150 https://t.co/HmwrdfEfUE</td>\n",
       "      <td>165</td>\n",
       "      <td>150</td>\n",
       "    </tr>\n",
       "    <tr>\n",
       "      <td>863</td>\n",
       "      <td>740373189193256964</td>\n",
       "      <td>After so many requests, this is Bretagne. She was the last surviving 9/11 search dog, and our second ever 14/10. RIP https://t.co/XAVDNDaVgQ</td>\n",
       "      <td>9</td>\n",
       "      <td>11</td>\n",
       "    </tr>\n",
       "    <tr>\n",
       "      <td>911</td>\n",
       "      <td>731156023742988288</td>\n",
       "      <td>Say hello to this unbelievably well behaved squad of doggos. 204/170 would try to pet all at once https://t.co/yGQI3He3xv</td>\n",
       "      <td>204</td>\n",
       "      <td>170</td>\n",
       "    </tr>\n",
       "    <tr>\n",
       "      <td>954</td>\n",
       "      <td>722974582966214656</td>\n",
       "      <td>Happy 4/20 from the squad! 13/10 for all https://t.co/eV1diwds8a</td>\n",
       "      <td>4</td>\n",
       "      <td>20</td>\n",
       "    </tr>\n",
       "    <tr>\n",
       "      <td>988</td>\n",
       "      <td>716439118184652801</td>\n",
       "      <td>This is Bluebert. He just saw that both #FinalFur match ups are split 50/50. Amazed af. 11/10 https://t.co/Kky1DPG4iq</td>\n",
       "      <td>50</td>\n",
       "      <td>50</td>\n",
       "    </tr>\n",
       "    <tr>\n",
       "      <td>1009</td>\n",
       "      <td>713900603437621249</td>\n",
       "      <td>Happy Saturday here's 9 puppers on a bench. 99/90 good work everybody https://t.co/mpvaVxKmc1</td>\n",
       "      <td>99</td>\n",
       "      <td>90</td>\n",
       "    </tr>\n",
       "    <tr>\n",
       "      <td>1034</td>\n",
       "      <td>710658690886586372</td>\n",
       "      <td>Here's a brigade of puppers. All look very prepared for whatever happens next. 80/80 https://t.co/0eb7R1Om12</td>\n",
       "      <td>80</td>\n",
       "      <td>80</td>\n",
       "    </tr>\n",
       "    <tr>\n",
       "      <td>1052</td>\n",
       "      <td>709198395643068416</td>\n",
       "      <td>From left to right:\\nCletus, Jerome, Alejandro, Burp, &amp;amp; Titson\\nNone know where camera is. 45/50 would hug all at once https://t.co/sedre1ivTK</td>\n",
       "      <td>45</td>\n",
       "      <td>50</td>\n",
       "    </tr>\n",
       "    <tr>\n",
       "      <td>1118</td>\n",
       "      <td>704054845121142784</td>\n",
       "      <td>Here is a whole flock of puppers.  60/50 I'll take the lot https://t.co/9dpcw6MdWa</td>\n",
       "      <td>60</td>\n",
       "      <td>50</td>\n",
       "    </tr>\n",
       "    <tr>\n",
       "      <td>1194</td>\n",
       "      <td>697463031882764288</td>\n",
       "      <td>Happy Wednesday here's a bucket of pups. 44/40 would pet all at once https://t.co/HppvrYuamZ</td>\n",
       "      <td>44</td>\n",
       "      <td>40</td>\n",
       "    </tr>\n",
       "    <tr>\n",
       "      <td>1366</td>\n",
       "      <td>684225744407494656</td>\n",
       "      <td>Two sneaky puppers were not initially seen, moving the rating to 143/130. Please forgive us. Thank you https://t.co/kRK51Y5ac3</td>\n",
       "      <td>143</td>\n",
       "      <td>130</td>\n",
       "    </tr>\n",
       "    <tr>\n",
       "      <td>1367</td>\n",
       "      <td>684222868335505415</td>\n",
       "      <td>Someone help the girl is being mugged. Several are distracting her while two steal her shoes. Clever puppers 121/110 https://t.co/1zfnTJLt55</td>\n",
       "      <td>121</td>\n",
       "      <td>110</td>\n",
       "    </tr>\n",
       "    <tr>\n",
       "      <td>1392</td>\n",
       "      <td>682962037429899265</td>\n",
       "      <td>This is Darrel. He just robbed a 7/11 and is in a high speed police chase. Was just spotted by the helicopter 10/10 https://t.co/7EsP8LmSp5</td>\n",
       "      <td>7</td>\n",
       "      <td>11</td>\n",
       "    </tr>\n",
       "    <tr>\n",
       "      <td>1498</td>\n",
       "      <td>677716515794329600</td>\n",
       "      <td>IT'S PUPPERGEDDON. Total of 144/120 ...I think https://t.co/ZanVtAtvIq</td>\n",
       "      <td>144</td>\n",
       "      <td>120</td>\n",
       "    </tr>\n",
       "    <tr>\n",
       "      <td>1557</td>\n",
       "      <td>675853064436391936</td>\n",
       "      <td>Here we have an entire platoon of puppers. Total score: 88/80 would pet all at once https://t.co/y93p6FLvVw</td>\n",
       "      <td>88</td>\n",
       "      <td>80</td>\n",
       "    </tr>\n",
       "    <tr>\n",
       "      <td>2038</td>\n",
       "      <td>666287406224695296</td>\n",
       "      <td>This is an Albanian 3 1/2 legged  Episcopalian. Loves well-polished hardwood flooring. Penis on the collar. 9/10 https://t.co/d9NcXFKwLv</td>\n",
       "      <td>1</td>\n",
       "      <td>2</td>\n",
       "    </tr>\n",
       "  </tbody>\n",
       "</table>\n",
       "</div>"
      ],
      "text/plain": [
       "                tweet_id  \\\n",
       "336   820690176645140481   \n",
       "406   810984652412424192   \n",
       "722   758467244762497024   \n",
       "863   740373189193256964   \n",
       "911   731156023742988288   \n",
       "954   722974582966214656   \n",
       "988   716439118184652801   \n",
       "1009  713900603437621249   \n",
       "1034  710658690886586372   \n",
       "1052  709198395643068416   \n",
       "1118  704054845121142784   \n",
       "1194  697463031882764288   \n",
       "1366  684225744407494656   \n",
       "1367  684222868335505415   \n",
       "1392  682962037429899265   \n",
       "1498  677716515794329600   \n",
       "1557  675853064436391936   \n",
       "2038  666287406224695296   \n",
       "\n",
       "                                                                                                                                                                           text  \\\n",
       "336   The floofs have been released I repeat the floofs have been released. 84/70 https://t.co/NIYC820tmd                                                                         \n",
       "406   Meet Sam. She smiles 24/7 &amp; secretly aspires to be a reindeer. \\nKeep Sam smiling by clicking and sharing this link:\\nhttps://t.co/98tB8y7y7t https://t.co/LouL5vdvxx   \n",
       "722   Why does this never happen at my front door... 165/150 https://t.co/HmwrdfEfUE                                                                                              \n",
       "863   After so many requests, this is Bretagne. She was the last surviving 9/11 search dog, and our second ever 14/10. RIP https://t.co/XAVDNDaVgQ                                \n",
       "911   Say hello to this unbelievably well behaved squad of doggos. 204/170 would try to pet all at once https://t.co/yGQI3He3xv                                                   \n",
       "954   Happy 4/20 from the squad! 13/10 for all https://t.co/eV1diwds8a                                                                                                            \n",
       "988   This is Bluebert. He just saw that both #FinalFur match ups are split 50/50. Amazed af. 11/10 https://t.co/Kky1DPG4iq                                                       \n",
       "1009  Happy Saturday here's 9 puppers on a bench. 99/90 good work everybody https://t.co/mpvaVxKmc1                                                                               \n",
       "1034  Here's a brigade of puppers. All look very prepared for whatever happens next. 80/80 https://t.co/0eb7R1Om12                                                                \n",
       "1052  From left to right:\\nCletus, Jerome, Alejandro, Burp, &amp; Titson\\nNone know where camera is. 45/50 would hug all at once https://t.co/sedre1ivTK                          \n",
       "1118  Here is a whole flock of puppers.  60/50 I'll take the lot https://t.co/9dpcw6MdWa                                                                                          \n",
       "1194  Happy Wednesday here's a bucket of pups. 44/40 would pet all at once https://t.co/HppvrYuamZ                                                                                \n",
       "1366  Two sneaky puppers were not initially seen, moving the rating to 143/130. Please forgive us. Thank you https://t.co/kRK51Y5ac3                                              \n",
       "1367  Someone help the girl is being mugged. Several are distracting her while two steal her shoes. Clever puppers 121/110 https://t.co/1zfnTJLt55                                \n",
       "1392  This is Darrel. He just robbed a 7/11 and is in a high speed police chase. Was just spotted by the helicopter 10/10 https://t.co/7EsP8LmSp5                                 \n",
       "1498  IT'S PUPPERGEDDON. Total of 144/120 ...I think https://t.co/ZanVtAtvIq                                                                                                      \n",
       "1557  Here we have an entire platoon of puppers. Total score: 88/80 would pet all at once https://t.co/y93p6FLvVw                                                                 \n",
       "2038  This is an Albanian 3 1/2 legged  Episcopalian. Loves well-polished hardwood flooring. Penis on the collar. 9/10 https://t.co/d9NcXFKwLv                                    \n",
       "\n",
       "      rating_numerator  rating_denominator  \n",
       "336   84                70                  \n",
       "406   24                7                   \n",
       "722   165               150                 \n",
       "863   9                 11                  \n",
       "911   204               170                 \n",
       "954   4                 20                  \n",
       "988   50                50                  \n",
       "1009  99                90                  \n",
       "1034  80                80                  \n",
       "1052  45                50                  \n",
       "1118  60                50                  \n",
       "1194  44                40                  \n",
       "1366  143               130                 \n",
       "1367  121               110                 \n",
       "1392  7                 11                  \n",
       "1498  144               120                 \n",
       "1557  88                80                  \n",
       "2038  1                 2                   "
      ]
     },
     "execution_count": 58,
     "metadata": {},
     "output_type": "execute_result"
    }
   ],
   "source": [
    "df_temp.style.hide_index()\n",
    "df_temp[['tweet_id','text','rating_numerator','rating_denominator']]"
   ]
  },
  {
   "cell_type": "code",
   "execution_count": 59,
   "metadata": {},
   "outputs": [],
   "source": [
    "tweet_ids = [740373189193256964, 722974582966214656, 716439118184652801, 682962037429899265, 666287406224695296]"
   ]
  },
  {
   "cell_type": "code",
   "execution_count": 60,
   "metadata": {},
   "outputs": [],
   "source": [
    "for i in tweet_ids:\n",
    "    df_merged.loc[ df_merged.tweet_id == i , ['rating_denominator']] = 10"
   ]
  },
  {
   "cell_type": "markdown",
   "metadata": {},
   "source": [
    "#### Test"
   ]
  },
  {
   "cell_type": "code",
   "execution_count": 61,
   "metadata": {},
   "outputs": [
    {
     "data": {
      "text/html": [
       "<div>\n",
       "<style scoped>\n",
       "    .dataframe tbody tr th:only-of-type {\n",
       "        vertical-align: middle;\n",
       "    }\n",
       "\n",
       "    .dataframe tbody tr th {\n",
       "        vertical-align: top;\n",
       "    }\n",
       "\n",
       "    .dataframe thead th {\n",
       "        text-align: right;\n",
       "    }\n",
       "</style>\n",
       "<table border=\"1\" class=\"dataframe\">\n",
       "  <thead>\n",
       "    <tr style=\"text-align: right;\">\n",
       "      <th></th>\n",
       "      <th>tweet_id</th>\n",
       "      <th>timestamp</th>\n",
       "      <th>source</th>\n",
       "      <th>text</th>\n",
       "      <th>expanded_urls</th>\n",
       "      <th>rating_numerator</th>\n",
       "      <th>rating_denominator</th>\n",
       "      <th>name</th>\n",
       "      <th>dog_stage</th>\n",
       "      <th>jpg_url</th>\n",
       "      <th>...</th>\n",
       "      <th>p2_conf</th>\n",
       "      <th>p2_dog</th>\n",
       "      <th>p3</th>\n",
       "      <th>p3_conf</th>\n",
       "      <th>p3_dog</th>\n",
       "      <th>retweet_count</th>\n",
       "      <th>favorite_count</th>\n",
       "      <th>display_text_range</th>\n",
       "      <th>lang</th>\n",
       "      <th>place</th>\n",
       "    </tr>\n",
       "  </thead>\n",
       "  <tbody>\n",
       "    <tr>\n",
       "      <td>863</td>\n",
       "      <td>740373189193256964</td>\n",
       "      <td>2016-06-08 02:41:38+00:00</td>\n",
       "      <td>&lt;a href=\"http://twitter.com/download/iphone\" rel=\"nofollow\"&gt;Twitter for iPhone&lt;/a&gt;</td>\n",
       "      <td>After so many requests, this is Bretagne. She was the last surviving 9/11 search dog, and our second ever 14/10. RIP https://t.co/XAVDNDaVgQ</td>\n",
       "      <td>https://twitter.com/dog_rates/status/740373189193256964/photo/1,https://twitter.com/dog_rates/status/740373189193256964/photo/1,https://twitter.com/dog_rates/status/740373189193256964/photo/1,https://twitter.com/dog_rates/status/740373189193256964/photo/1</td>\n",
       "      <td>9</td>\n",
       "      <td>10</td>\n",
       "      <td>None</td>\n",
       "      <td>NaN</td>\n",
       "      <td>https://pbs.twimg.com/media/CkZVdJ6WYAAXZ5A.jpg</td>\n",
       "      <td>...</td>\n",
       "      <td>0.101286</td>\n",
       "      <td>True</td>\n",
       "      <td>Labrador_retriever</td>\n",
       "      <td>0.023785</td>\n",
       "      <td>True</td>\n",
       "      <td>13328</td>\n",
       "      <td>35066</td>\n",
       "      <td>[0, 116]</td>\n",
       "      <td>en</td>\n",
       "      <td>None</td>\n",
       "    </tr>\n",
       "  </tbody>\n",
       "</table>\n",
       "<p>1 rows × 25 columns</p>\n",
       "</div>"
      ],
      "text/plain": [
       "               tweet_id                 timestamp  \\\n",
       "863  740373189193256964 2016-06-08 02:41:38+00:00   \n",
       "\n",
       "                                                                                 source  \\\n",
       "863  <a href=\"http://twitter.com/download/iphone\" rel=\"nofollow\">Twitter for iPhone</a>   \n",
       "\n",
       "                                                                                                                                             text  \\\n",
       "863  After so many requests, this is Bretagne. She was the last surviving 9/11 search dog, and our second ever 14/10. RIP https://t.co/XAVDNDaVgQ   \n",
       "\n",
       "                                                                                                                                                                                                                                                       expanded_urls  \\\n",
       "863  https://twitter.com/dog_rates/status/740373189193256964/photo/1,https://twitter.com/dog_rates/status/740373189193256964/photo/1,https://twitter.com/dog_rates/status/740373189193256964/photo/1,https://twitter.com/dog_rates/status/740373189193256964/photo/1   \n",
       "\n",
       "     rating_numerator  rating_denominator  name dog_stage  \\\n",
       "863  9                 10                  None  NaN        \n",
       "\n",
       "                                             jpg_url  ...   p2_conf p2_dog  \\\n",
       "863  https://pbs.twimg.com/media/CkZVdJ6WYAAXZ5A.jpg  ...  0.101286  True    \n",
       "\n",
       "                     p3   p3_conf p3_dog  retweet_count  favorite_count  \\\n",
       "863  Labrador_retriever  0.023785  True   13328          35066            \n",
       "\n",
       "    display_text_range  lang  place  \n",
       "863  [0, 116]           en    None   \n",
       "\n",
       "[1 rows x 25 columns]"
      ]
     },
     "execution_count": 61,
     "metadata": {},
     "output_type": "execute_result"
    }
   ],
   "source": [
    "df_merged.loc[df_merged.tweet_id == 740373189193256964]"
   ]
  },
  {
   "cell_type": "markdown",
   "metadata": {},
   "source": [
    "## <font color=brown> Quality- Issue 06 : </font>"
   ]
  },
  {
   "cell_type": "markdown",
   "metadata": {},
   "source": [
    "#### Define"
   ]
  },
  {
   "cell_type": "markdown",
   "metadata": {},
   "source": [
    "Correct the 'rating_numerator' values from the tweet text"
   ]
  },
  {
   "cell_type": "markdown",
   "metadata": {},
   "source": [
    "#### Code"
   ]
  },
  {
   "cell_type": "code",
   "execution_count": 62,
   "metadata": {},
   "outputs": [],
   "source": [
    "df_merged.loc[df_merged.tweet_id == 740373189193256964, ['rating_numerator']] = 14\n",
    "df_merged.loc[df_merged.tweet_id == 722974582966214656, ['rating_numerator']] = 13\n",
    "df_merged.loc[df_merged.tweet_id == 716439118184652801, ['rating_numerator']] = 11\n",
    "df_merged.loc[df_merged.tweet_id == 682962037429899265, ['rating_numerator']] = 10\n",
    "df_merged.loc[df_merged.tweet_id == 666287406224695296, ['rating_numerator']] = 9"
   ]
  },
  {
   "cell_type": "markdown",
   "metadata": {},
   "source": [
    "#### Test"
   ]
  },
  {
   "cell_type": "code",
   "execution_count": 63,
   "metadata": {},
   "outputs": [
    {
     "data": {
      "text/html": [
       "<div>\n",
       "<style scoped>\n",
       "    .dataframe tbody tr th:only-of-type {\n",
       "        vertical-align: middle;\n",
       "    }\n",
       "\n",
       "    .dataframe tbody tr th {\n",
       "        vertical-align: top;\n",
       "    }\n",
       "\n",
       "    .dataframe thead th {\n",
       "        text-align: right;\n",
       "    }\n",
       "</style>\n",
       "<table border=\"1\" class=\"dataframe\">\n",
       "  <thead>\n",
       "    <tr style=\"text-align: right;\">\n",
       "      <th></th>\n",
       "      <th>tweet_id</th>\n",
       "      <th>timestamp</th>\n",
       "      <th>source</th>\n",
       "      <th>text</th>\n",
       "      <th>expanded_urls</th>\n",
       "      <th>rating_numerator</th>\n",
       "      <th>rating_denominator</th>\n",
       "      <th>name</th>\n",
       "      <th>dog_stage</th>\n",
       "      <th>jpg_url</th>\n",
       "      <th>...</th>\n",
       "      <th>p2_conf</th>\n",
       "      <th>p2_dog</th>\n",
       "      <th>p3</th>\n",
       "      <th>p3_conf</th>\n",
       "      <th>p3_dog</th>\n",
       "      <th>retweet_count</th>\n",
       "      <th>favorite_count</th>\n",
       "      <th>display_text_range</th>\n",
       "      <th>lang</th>\n",
       "      <th>place</th>\n",
       "    </tr>\n",
       "  </thead>\n",
       "  <tbody>\n",
       "    <tr>\n",
       "      <td>863</td>\n",
       "      <td>740373189193256964</td>\n",
       "      <td>2016-06-08 02:41:38+00:00</td>\n",
       "      <td>&lt;a href=\"http://twitter.com/download/iphone\" rel=\"nofollow\"&gt;Twitter for iPhone&lt;/a&gt;</td>\n",
       "      <td>After so many requests, this is Bretagne. She was the last surviving 9/11 search dog, and our second ever 14/10. RIP https://t.co/XAVDNDaVgQ</td>\n",
       "      <td>https://twitter.com/dog_rates/status/740373189193256964/photo/1,https://twitter.com/dog_rates/status/740373189193256964/photo/1,https://twitter.com/dog_rates/status/740373189193256964/photo/1,https://twitter.com/dog_rates/status/740373189193256964/photo/1</td>\n",
       "      <td>14</td>\n",
       "      <td>10</td>\n",
       "      <td>None</td>\n",
       "      <td>NaN</td>\n",
       "      <td>https://pbs.twimg.com/media/CkZVdJ6WYAAXZ5A.jpg</td>\n",
       "      <td>...</td>\n",
       "      <td>0.101286</td>\n",
       "      <td>True</td>\n",
       "      <td>Labrador_retriever</td>\n",
       "      <td>0.023785</td>\n",
       "      <td>True</td>\n",
       "      <td>13328</td>\n",
       "      <td>35066</td>\n",
       "      <td>[0, 116]</td>\n",
       "      <td>en</td>\n",
       "      <td>None</td>\n",
       "    </tr>\n",
       "  </tbody>\n",
       "</table>\n",
       "<p>1 rows × 25 columns</p>\n",
       "</div>"
      ],
      "text/plain": [
       "               tweet_id                 timestamp  \\\n",
       "863  740373189193256964 2016-06-08 02:41:38+00:00   \n",
       "\n",
       "                                                                                 source  \\\n",
       "863  <a href=\"http://twitter.com/download/iphone\" rel=\"nofollow\">Twitter for iPhone</a>   \n",
       "\n",
       "                                                                                                                                             text  \\\n",
       "863  After so many requests, this is Bretagne. She was the last surviving 9/11 search dog, and our second ever 14/10. RIP https://t.co/XAVDNDaVgQ   \n",
       "\n",
       "                                                                                                                                                                                                                                                       expanded_urls  \\\n",
       "863  https://twitter.com/dog_rates/status/740373189193256964/photo/1,https://twitter.com/dog_rates/status/740373189193256964/photo/1,https://twitter.com/dog_rates/status/740373189193256964/photo/1,https://twitter.com/dog_rates/status/740373189193256964/photo/1   \n",
       "\n",
       "     rating_numerator  rating_denominator  name dog_stage  \\\n",
       "863  14                10                  None  NaN        \n",
       "\n",
       "                                             jpg_url  ...   p2_conf p2_dog  \\\n",
       "863  https://pbs.twimg.com/media/CkZVdJ6WYAAXZ5A.jpg  ...  0.101286  True    \n",
       "\n",
       "                     p3   p3_conf p3_dog  retweet_count  favorite_count  \\\n",
       "863  Labrador_retriever  0.023785  True   13328          35066            \n",
       "\n",
       "    display_text_range  lang  place  \n",
       "863  [0, 116]           en    None   \n",
       "\n",
       "[1 rows x 25 columns]"
      ]
     },
     "execution_count": 63,
     "metadata": {},
     "output_type": "execute_result"
    }
   ],
   "source": [
    "df_merged.loc[df_merged.tweet_id == 740373189193256964]"
   ]
  },
  {
   "cell_type": "markdown",
   "metadata": {},
   "source": [
    "## <font color=brown> Quality- Issue 07 : </font>"
   ]
  },
  {
   "cell_type": "markdown",
   "metadata": {},
   "source": [
    "#### Define"
   ]
  },
  {
   "cell_type": "markdown",
   "metadata": {},
   "source": [
    "Make the contents of the column `source` human readable by change the long url links to specific words which are part of the anchor tag."
   ]
  },
  {
   "cell_type": "markdown",
   "metadata": {},
   "source": [
    "#### Code"
   ]
  },
  {
   "cell_type": "code",
   "execution_count": 64,
   "metadata": {},
   "outputs": [
    {
     "data": {
      "text/plain": [
       "<a href=\"http://twitter.com/download/iphone\" rel=\"nofollow\">Twitter for iPhone</a>     1949\n",
       "<a href=\"http://twitter.com\" rel=\"nofollow\">Twitter Web Client</a>                     28  \n",
       "<a href=\"https://about.twitter.com/products/tweetdeck\" rel=\"nofollow\">TweetDeck</a>    10  \n",
       "Name: source, dtype: int64"
      ]
     },
     "execution_count": 64,
     "metadata": {},
     "output_type": "execute_result"
    }
   ],
   "source": [
    "df_merged['source'].value_counts()"
   ]
  },
  {
   "cell_type": "code",
   "execution_count": 65,
   "metadata": {},
   "outputs": [],
   "source": [
    "v1 = '<a href=\"http://twitter.com/download/iphone\" rel=\"nofollow\">Twitter for iPhone</a>'\n",
    "r1 = 'Twitter for iPhone'\n",
    "\n",
    "v2 = '<a href=\"http://twitter.com\" rel=\"nofollow\">Twitter Web Client</a>'\n",
    "r2 = 'Twitter Web Client'\n",
    "\n",
    "v3 = '<a href=\"https://about.twitter.com/products/tweetdeck\" rel=\"nofollow\">TweetDeck</a>'\n",
    "r3 = 'TweetDeck'\n",
    "\n",
    "df_merged['source'] = df_merged['source'].replace(v1,r1)\n",
    "df_merged['source'] = df_merged['source'].replace(v2,r2)\n",
    "df_merged['source'] = df_merged['source'].replace(v3,r3)"
   ]
  },
  {
   "cell_type": "markdown",
   "metadata": {},
   "source": [
    "#### Test"
   ]
  },
  {
   "cell_type": "code",
   "execution_count": 66,
   "metadata": {},
   "outputs": [
    {
     "data": {
      "text/plain": [
       "Twitter for iPhone    1949\n",
       "Twitter Web Client    28  \n",
       "TweetDeck             10  \n",
       "Name: source, dtype: int64"
      ]
     },
     "execution_count": 66,
     "metadata": {},
     "output_type": "execute_result"
    }
   ],
   "source": [
    "df_merged['source'].value_counts()"
   ]
  },
  {
   "cell_type": "markdown",
   "metadata": {},
   "source": [
    "## <font color=brown> Quality- Issue 08 : </font>"
   ]
  },
  {
   "cell_type": "markdown",
   "metadata": {},
   "source": [
    "#### Define"
   ]
  },
  {
   "cell_type": "markdown",
   "metadata": {},
   "source": [
    "Some dog names are incorrect. Replace the frequent incorrect names with 'None'. "
   ]
  },
  {
   "cell_type": "markdown",
   "metadata": {},
   "source": [
    "#### Code"
   ]
  },
  {
   "cell_type": "code",
   "execution_count": 67,
   "metadata": {},
   "outputs": [
    {
     "data": {
      "text/plain": [
       "934"
      ]
     },
     "execution_count": 67,
     "metadata": {},
     "output_type": "execute_result"
    }
   ],
   "source": [
    "df_merged.name.value_counts().count() # different name count"
   ]
  },
  {
   "cell_type": "code",
   "execution_count": 68,
   "metadata": {},
   "outputs": [
    {
     "data": {
      "text/plain": [
       "None       546\n",
       "a          55 \n",
       "Charlie    10 \n",
       "Cooper     10 \n",
       "Oliver     10 \n",
       "Tucker     9  \n",
       "Lucy       9  \n",
       "Penny      9  \n",
       "Winston    8  \n",
       "Sadie      8  \n",
       "the        7  \n",
       "Toby       7  \n",
       "Lola       7  \n",
       "Daisy      7  \n",
       "Stanley    6  \n",
       "Koda       6  \n",
       "Bo         6  \n",
       "an         6  \n",
       "Jax        6  \n",
       "Bella      6  \n",
       "Name: name, dtype: int64"
      ]
     },
     "execution_count": 68,
     "metadata": {},
     "output_type": "execute_result"
    }
   ],
   "source": [
    "df_merged.name.value_counts().head(20)"
   ]
  },
  {
   "cell_type": "code",
   "execution_count": 69,
   "metadata": {},
   "outputs": [
    {
     "data": {
      "text/plain": [
       "Winnie     4\n",
       "Maggie     4\n",
       "Phil       4\n",
       "Duke       4\n",
       "Bentley    4\n",
       "Sophie     4\n",
       "Jack       4\n",
       "Clark      4\n",
       "Archie     4\n",
       "Chip       4\n",
       "Name: name, dtype: int64"
      ]
     },
     "execution_count": 69,
     "metadata": {},
     "output_type": "execute_result"
    }
   ],
   "source": [
    "df_merged.name.value_counts().head(50).tail(10)"
   ]
  },
  {
   "cell_type": "code",
   "execution_count": 70,
   "metadata": {},
   "outputs": [],
   "source": [
    "wrong_name = ['a','an','the','such','just','one','getting','light','this',\n",
    "              'incredibly','not','infuriating','by','my','his'] # find this name by manual inspection\n",
    "\n",
    "for n in wrong_name:\n",
    "    df_merged['name'].replace(n, 'None', inplace=True)"
   ]
  },
  {
   "cell_type": "markdown",
   "metadata": {},
   "source": [
    "#### Test"
   ]
  },
  {
   "cell_type": "code",
   "execution_count": 71,
   "metadata": {},
   "outputs": [
    {
     "data": {
      "text/plain": [
       "None       632\n",
       "Oliver     10 \n",
       "Charlie    10 \n",
       "Cooper     10 \n",
       "Penny      9  \n",
       "Name: name, dtype: int64"
      ]
     },
     "execution_count": 71,
     "metadata": {},
     "output_type": "execute_result"
    }
   ],
   "source": [
    "df_merged.name.value_counts().head(5)"
   ]
  },
  {
   "cell_type": "markdown",
   "metadata": {},
   "source": [
    "## <font color=brown> Quality- Issue 09 : </font>"
   ]
  },
  {
   "cell_type": "markdown",
   "metadata": {},
   "source": [
    "#### Define"
   ]
  },
  {
   "cell_type": "markdown",
   "metadata": {},
   "source": [
    "Capitalize the name of the dog for consistency"
   ]
  },
  {
   "cell_type": "markdown",
   "metadata": {},
   "source": [
    "#### Code"
   ]
  },
  {
   "cell_type": "code",
   "execution_count": 72,
   "metadata": {},
   "outputs": [
    {
     "data": {
      "text/plain": [
       "12"
      ]
     },
     "execution_count": 72,
     "metadata": {},
     "output_type": "execute_result"
    }
   ],
   "source": [
    "df_merged['name'].str.islower().sum()"
   ]
  },
  {
   "cell_type": "code",
   "execution_count": 73,
   "metadata": {},
   "outputs": [],
   "source": [
    "df_merged['name'] = df_merged.name.str.capitalize()"
   ]
  },
  {
   "cell_type": "markdown",
   "metadata": {},
   "source": [
    "#### Test"
   ]
  },
  {
   "cell_type": "code",
   "execution_count": 74,
   "metadata": {},
   "outputs": [
    {
     "data": {
      "text/plain": [
       "0"
      ]
     },
     "execution_count": 74,
     "metadata": {},
     "output_type": "execute_result"
    }
   ],
   "source": [
    "df_merged['name'].str.islower().sum()"
   ]
  },
  {
   "cell_type": "markdown",
   "metadata": {},
   "source": [
    "## <font color=brown> Quality- Issue 10 : </font>"
   ]
  },
  {
   "cell_type": "markdown",
   "metadata": {},
   "source": [
    "#### Define"
   ]
  },
  {
   "cell_type": "markdown",
   "metadata": {},
   "source": [
    "Change names of the columns from 'df_img_predictions' datframe   for better readability"
   ]
  },
  {
   "cell_type": "markdown",
   "metadata": {},
   "source": [
    "#### Code"
   ]
  },
  {
   "cell_type": "code",
   "execution_count": 75,
   "metadata": {},
   "outputs": [
    {
     "data": {
      "text/plain": [
       "Index(['tweet_id', 'timestamp', 'source', 'text', 'expanded_urls',\n",
       "       'rating_numerator', 'rating_denominator', 'name', 'dog_stage',\n",
       "       'jpg_url', 'img_num', 'p1', 'p1_conf', 'p1_dog', 'p2', 'p2_conf',\n",
       "       'p2_dog', 'p3', 'p3_conf', 'p3_dog', 'retweet_count', 'favorite_count',\n",
       "       'display_text_range', 'lang', 'place'],\n",
       "      dtype='object')"
      ]
     },
     "execution_count": 75,
     "metadata": {},
     "output_type": "execute_result"
    }
   ],
   "source": [
    "df_merged.columns"
   ]
  },
  {
   "cell_type": "code",
   "execution_count": 76,
   "metadata": {},
   "outputs": [],
   "source": [
    "df_merged.rename(columns={'p1':'algo_01_prediction', 'p1_conf': 'algo_01_confidence', 'p1_dog': 'algo_01_dog',\n",
    "                          'p2':'algo_02_prediction', 'p2_conf': 'algo_02_confidence', 'p2_dog': 'algo_02_dog',\n",
    "                          'p3':'algo_03_prediction', 'p3_conf': 'algo_03_confidence', 'p3_dog': 'algo_03_dog'}, \n",
    "                           inplace = True)\n"
   ]
  },
  {
   "cell_type": "markdown",
   "metadata": {},
   "source": [
    "#### Test"
   ]
  },
  {
   "cell_type": "code",
   "execution_count": 77,
   "metadata": {},
   "outputs": [
    {
     "data": {
      "text/plain": [
       "Index(['tweet_id', 'timestamp', 'source', 'text', 'expanded_urls',\n",
       "       'rating_numerator', 'rating_denominator', 'name', 'dog_stage',\n",
       "       'jpg_url', 'img_num', 'algo_01_prediction', 'algo_01_confidence',\n",
       "       'algo_01_dog', 'algo_02_prediction', 'algo_02_confidence',\n",
       "       'algo_02_dog', 'algo_03_prediction', 'algo_03_confidence',\n",
       "       'algo_03_dog', 'retweet_count', 'favorite_count', 'display_text_range',\n",
       "       'lang', 'place'],\n",
       "      dtype='object')"
      ]
     },
     "execution_count": 77,
     "metadata": {},
     "output_type": "execute_result"
    }
   ],
   "source": [
    "df_merged.columns"
   ]
  },
  {
   "cell_type": "markdown",
   "metadata": {},
   "source": [
    "## <font color=brown> Quality- Issue 11 : </font>"
   ]
  },
  {
   "cell_type": "markdown",
   "metadata": {},
   "source": [
    "#### Define"
   ]
  },
  {
   "cell_type": "markdown",
   "metadata": {},
   "source": [
    "Prediction of dog breeds involve both uppercase and lowercase for the first letter. e.g. \n",
    "Labrador_retriever, golden_retriever etc. Capitalize the dog breed  predictions."
   ]
  },
  {
   "cell_type": "markdown",
   "metadata": {},
   "source": [
    "#### Code"
   ]
  },
  {
   "cell_type": "code",
   "execution_count": 78,
   "metadata": {},
   "outputs": [],
   "source": [
    "df_merged['algo_01_prediction'] = df_merged.algo_01_prediction.str.capitalize()\n",
    "df_merged['algo_02_prediction'] = df_merged.algo_02_prediction.str.capitalize()\n",
    "df_merged['algo_03_prediction'] = df_merged.algo_03_prediction.str.capitalize()"
   ]
  },
  {
   "cell_type": "markdown",
   "metadata": {},
   "source": [
    "#### Test"
   ]
  },
  {
   "cell_type": "code",
   "execution_count": 79,
   "metadata": {},
   "outputs": [
    {
     "data": {
      "text/html": [
       "<div>\n",
       "<style scoped>\n",
       "    .dataframe tbody tr th:only-of-type {\n",
       "        vertical-align: middle;\n",
       "    }\n",
       "\n",
       "    .dataframe tbody tr th {\n",
       "        vertical-align: top;\n",
       "    }\n",
       "\n",
       "    .dataframe thead th {\n",
       "        text-align: right;\n",
       "    }\n",
       "</style>\n",
       "<table border=\"1\" class=\"dataframe\">\n",
       "  <thead>\n",
       "    <tr style=\"text-align: right;\">\n",
       "      <th></th>\n",
       "      <th>tweet_id</th>\n",
       "      <th>algo_01_prediction</th>\n",
       "      <th>algo_02_prediction</th>\n",
       "      <th>algo_03_prediction</th>\n",
       "    </tr>\n",
       "  </thead>\n",
       "  <tbody>\n",
       "    <tr>\n",
       "      <td>0</td>\n",
       "      <td>892420643555336193</td>\n",
       "      <td>Orange</td>\n",
       "      <td>Bagel</td>\n",
       "      <td>Banana</td>\n",
       "    </tr>\n",
       "    <tr>\n",
       "      <td>1</td>\n",
       "      <td>892177421306343426</td>\n",
       "      <td>Chihuahua</td>\n",
       "      <td>Pekinese</td>\n",
       "      <td>Papillon</td>\n",
       "    </tr>\n",
       "    <tr>\n",
       "      <td>2</td>\n",
       "      <td>891815181378084864</td>\n",
       "      <td>Chihuahua</td>\n",
       "      <td>Malamute</td>\n",
       "      <td>Kelpie</td>\n",
       "    </tr>\n",
       "    <tr>\n",
       "      <td>3</td>\n",
       "      <td>891689557279858688</td>\n",
       "      <td>Paper_towel</td>\n",
       "      <td>Labrador_retriever</td>\n",
       "      <td>Spatula</td>\n",
       "    </tr>\n",
       "    <tr>\n",
       "      <td>4</td>\n",
       "      <td>891327558926688256</td>\n",
       "      <td>Basset</td>\n",
       "      <td>English_springer</td>\n",
       "      <td>German_short-haired_pointer</td>\n",
       "    </tr>\n",
       "  </tbody>\n",
       "</table>\n",
       "</div>"
      ],
      "text/plain": [
       "             tweet_id algo_01_prediction  algo_02_prediction  \\\n",
       "0  892420643555336193  Orange             Bagel                \n",
       "1  892177421306343426  Chihuahua          Pekinese             \n",
       "2  891815181378084864  Chihuahua          Malamute             \n",
       "3  891689557279858688  Paper_towel        Labrador_retriever   \n",
       "4  891327558926688256  Basset             English_springer     \n",
       "\n",
       "            algo_03_prediction  \n",
       "0  Banana                       \n",
       "1  Papillon                     \n",
       "2  Kelpie                       \n",
       "3  Spatula                      \n",
       "4  German_short-haired_pointer  "
      ]
     },
     "execution_count": 79,
     "metadata": {},
     "output_type": "execute_result"
    }
   ],
   "source": [
    "df_merged[['tweet_id','algo_01_prediction','algo_02_prediction','algo_03_prediction']].head(5)"
   ]
  },
  {
   "cell_type": "code",
   "execution_count": 80,
   "metadata": {},
   "outputs": [
    {
     "name": "stdout",
     "output_type": "stream",
     "text": [
      "<class 'pandas.core.frame.DataFrame'>\n",
      "Int64Index: 1987 entries, 0 to 2058\n",
      "Data columns (total 25 columns):\n",
      "tweet_id              1987 non-null int64\n",
      "timestamp             1987 non-null datetime64[ns, UTC]\n",
      "source                1987 non-null object\n",
      "text                  1987 non-null object\n",
      "expanded_urls         1987 non-null object\n",
      "rating_numerator      1987 non-null int64\n",
      "rating_denominator    1987 non-null int64\n",
      "name                  1987 non-null object\n",
      "dog_stage             305 non-null object\n",
      "jpg_url               1987 non-null object\n",
      "img_num               1987 non-null int64\n",
      "algo_01_prediction    1987 non-null object\n",
      "algo_01_confidence    1987 non-null float64\n",
      "algo_01_dog           1987 non-null bool\n",
      "algo_02_prediction    1987 non-null object\n",
      "algo_02_confidence    1987 non-null float64\n",
      "algo_02_dog           1987 non-null bool\n",
      "algo_03_prediction    1987 non-null object\n",
      "algo_03_confidence    1987 non-null float64\n",
      "algo_03_dog           1987 non-null bool\n",
      "retweet_count         1987 non-null int64\n",
      "favorite_count        1987 non-null int64\n",
      "display_text_range    1987 non-null object\n",
      "lang                  1987 non-null object\n",
      "place                 1 non-null object\n",
      "dtypes: bool(3), datetime64[ns, UTC](1), float64(3), int64(6), object(12)\n",
      "memory usage: 362.9+ KB\n"
     ]
    }
   ],
   "source": [
    "df_merged.info()"
   ]
  },
  {
   "cell_type": "markdown",
   "metadata": {},
   "source": [
    "# <center> <font color=blue> DATA STORING</font>"
   ]
  },
  {
   "cell_type": "code",
   "execution_count": 81,
   "metadata": {},
   "outputs": [],
   "source": [
    "df_merged.to_csv('twitter_archive_master.csv', encoding='utf-8')"
   ]
  },
  {
   "cell_type": "markdown",
   "metadata": {},
   "source": [
    "# <center> <font color=blue> ANALYZE & VISUALIZE </font>"
   ]
  },
  {
   "cell_type": "markdown",
   "metadata": {},
   "source": [
    "## Distribution of source "
   ]
  },
  {
   "cell_type": "code",
   "execution_count": 104,
   "metadata": {},
   "outputs": [
    {
     "data": {
      "image/png": "[encoded data removed]",
      "text/plain": [
       "<Figure size 1080x504 with 1 Axes>"
      ]
     },
     "metadata": {
      "needs_background": "light"
     },
     "output_type": "display_data"
    }
   ],
   "source": [
    "import seaborn as sb\n",
    "\n",
    "plt.figure(figsize=[15,7])\n",
    "\n",
    "sb.countplot(data = df_merged, x ='source')\n",
    "\n",
    "plt.title(\"Distribution of source for the tweets\", fontsize=12, y=1.03, color='blue');\n",
    "plt.xlabel('Source',fontsize=12, labelpad=10);\n",
    "plt.ylabel('Count', fontsize=12, labelpad=10);\n",
    "\n",
    "\n",
    "\n"
   ]
  },
  {
   "cell_type": "markdown",
   "metadata": {},
   "source": [
    "This plot above shows the distribution of source. We can see that the dominate source of tweets is from iPhone twitter app."
   ]
  },
  {
   "cell_type": "markdown",
   "metadata": {},
   "source": [
    "## Distribution of dog stages "
   ]
  },
  {
   "cell_type": "code",
   "execution_count": 119,
   "metadata": {},
   "outputs": [
    {
     "data": {
      "image/png": "[encoded data removed]",
      "text/plain": [
       "<Figure size 1080x720 with 1 Axes>"
      ]
     },
     "metadata": {
      "needs_background": "light"
     },
     "output_type": "display_data"
    }
   ],
   "source": [
    "plt.figure(figsize=[15,10])\n",
    "\n",
    "sb.countplot(data = df_merged, x ='dog_stage')\n",
    "\n",
    "plt.title(\"Distribution of dog stage\", fontsize=12, y=1.03, color='blue');\n",
    "plt.xlabel('Dog Stage',fontsize=12, labelpad=10);\n",
    "plt.ylabel('Count', fontsize=12, labelpad=10);"
   ]
  },
  {
   "cell_type": "markdown",
   "metadata": {},
   "source": [
    "The distribution of dog stage shows that **pupper** (small younger dog) is the most popular dog stage, followed by ‘doggo’ and ‘puppo’. As there are many missing values in the 'dog_stage' column so this distribution may not reflect the true distribution. Also I find that there were some errors in the enhanced twitter archive data. For some dog there were more than one dog stage. As a result we will see in the above graph 3 weird bar : doggopuppo, doggoflooper, doggopupper."
   ]
  },
  {
   "cell_type": "markdown",
   "metadata": {},
   "source": [
    "## Correlation between Retweet count and Favorite count"
   ]
  },
  {
   "cell_type": "code",
   "execution_count": 120,
   "metadata": {},
   "outputs": [
    {
     "data": {
      "text/html": [
       "<div>\n",
       "<style scoped>\n",
       "    .dataframe tbody tr th:only-of-type {\n",
       "        vertical-align: middle;\n",
       "    }\n",
       "\n",
       "    .dataframe tbody tr th {\n",
       "        vertical-align: top;\n",
       "    }\n",
       "\n",
       "    .dataframe thead th {\n",
       "        text-align: right;\n",
       "    }\n",
       "</style>\n",
       "<table border=\"1\" class=\"dataframe\">\n",
       "  <thead>\n",
       "    <tr style=\"text-align: right;\">\n",
       "      <th></th>\n",
       "      <th>tweet_id</th>\n",
       "      <th>rating_numerator</th>\n",
       "      <th>rating_denominator</th>\n",
       "      <th>img_num</th>\n",
       "      <th>algo_01_confidence</th>\n",
       "      <th>algo_01_dog</th>\n",
       "      <th>algo_02_confidence</th>\n",
       "      <th>algo_02_dog</th>\n",
       "      <th>algo_03_confidence</th>\n",
       "      <th>algo_03_dog</th>\n",
       "      <th>retweet_count</th>\n",
       "      <th>favorite_count</th>\n",
       "    </tr>\n",
       "  </thead>\n",
       "  <tbody>\n",
       "    <tr>\n",
       "      <td>tweet_id</td>\n",
       "      <td>1.000000</td>\n",
       "      <td>0.023622</td>\n",
       "      <td>-0.022035</td>\n",
       "      <td>0.213043</td>\n",
       "      <td>0.104599</td>\n",
       "      <td>0.119122</td>\n",
       "      <td>-0.002380</td>\n",
       "      <td>0.122315</td>\n",
       "      <td>-0.046915</td>\n",
       "      <td>0.095984</td>\n",
       "      <td>0.382808</td>\n",
       "      <td>0.610384</td>\n",
       "    </tr>\n",
       "    <tr>\n",
       "      <td>rating_numerator</td>\n",
       "      <td>0.023622</td>\n",
       "      <td>1.000000</td>\n",
       "      <td>0.197406</td>\n",
       "      <td>-0.000423</td>\n",
       "      <td>-0.008757</td>\n",
       "      <td>-0.029359</td>\n",
       "      <td>-0.021767</td>\n",
       "      <td>-0.034728</td>\n",
       "      <td>-0.006148</td>\n",
       "      <td>-0.029568</td>\n",
       "      <td>0.018678</td>\n",
       "      <td>0.016251</td>\n",
       "    </tr>\n",
       "    <tr>\n",
       "      <td>rating_denominator</td>\n",
       "      <td>-0.022035</td>\n",
       "      <td>0.197406</td>\n",
       "      <td>1.000000</td>\n",
       "      <td>-0.003302</td>\n",
       "      <td>-0.000664</td>\n",
       "      <td>-0.000849</td>\n",
       "      <td>-0.040742</td>\n",
       "      <td>-0.002330</td>\n",
       "      <td>-0.005419</td>\n",
       "      <td>0.003171</td>\n",
       "      <td>-0.019449</td>\n",
       "      <td>-0.026470</td>\n",
       "    </tr>\n",
       "    <tr>\n",
       "      <td>img_num</td>\n",
       "      <td>0.213043</td>\n",
       "      <td>-0.000423</td>\n",
       "      <td>-0.003302</td>\n",
       "      <td>1.000000</td>\n",
       "      <td>0.204491</td>\n",
       "      <td>0.032942</td>\n",
       "      <td>-0.156397</td>\n",
       "      <td>0.052641</td>\n",
       "      <td>-0.141630</td>\n",
       "      <td>0.063045</td>\n",
       "      <td>0.103739</td>\n",
       "      <td>0.129584</td>\n",
       "    </tr>\n",
       "    <tr>\n",
       "      <td>algo_01_confidence</td>\n",
       "      <td>0.104599</td>\n",
       "      <td>-0.008757</td>\n",
       "      <td>-0.000664</td>\n",
       "      <td>0.204491</td>\n",
       "      <td>1.000000</td>\n",
       "      <td>0.125900</td>\n",
       "      <td>-0.509641</td>\n",
       "      <td>0.141271</td>\n",
       "      <td>-0.707513</td>\n",
       "      <td>0.118262</td>\n",
       "      <td>0.047648</td>\n",
       "      <td>0.070318</td>\n",
       "    </tr>\n",
       "    <tr>\n",
       "      <td>algo_01_dog</td>\n",
       "      <td>0.119122</td>\n",
       "      <td>-0.029359</td>\n",
       "      <td>-0.000849</td>\n",
       "      <td>0.032942</td>\n",
       "      <td>0.125900</td>\n",
       "      <td>1.000000</td>\n",
       "      <td>0.109907</td>\n",
       "      <td>0.635259</td>\n",
       "      <td>0.047285</td>\n",
       "      <td>0.558037</td>\n",
       "      <td>0.002700</td>\n",
       "      <td>0.043370</td>\n",
       "    </tr>\n",
       "    <tr>\n",
       "      <td>algo_02_confidence</td>\n",
       "      <td>-0.002380</td>\n",
       "      <td>-0.021767</td>\n",
       "      <td>-0.040742</td>\n",
       "      <td>-0.156397</td>\n",
       "      <td>-0.509641</td>\n",
       "      <td>0.109907</td>\n",
       "      <td>1.000000</td>\n",
       "      <td>0.096701</td>\n",
       "      <td>0.481779</td>\n",
       "      <td>0.064263</td>\n",
       "      <td>-0.014151</td>\n",
       "      <td>-0.016385</td>\n",
       "    </tr>\n",
       "    <tr>\n",
       "      <td>algo_02_dog</td>\n",
       "      <td>0.122315</td>\n",
       "      <td>-0.034728</td>\n",
       "      <td>-0.002330</td>\n",
       "      <td>0.052641</td>\n",
       "      <td>0.141271</td>\n",
       "      <td>0.635259</td>\n",
       "      <td>0.096701</td>\n",
       "      <td>1.000000</td>\n",
       "      <td>0.035010</td>\n",
       "      <td>0.554087</td>\n",
       "      <td>0.012619</td>\n",
       "      <td>0.051829</td>\n",
       "    </tr>\n",
       "    <tr>\n",
       "      <td>algo_03_confidence</td>\n",
       "      <td>-0.046915</td>\n",
       "      <td>-0.006148</td>\n",
       "      <td>-0.005419</td>\n",
       "      <td>-0.141630</td>\n",
       "      <td>-0.707513</td>\n",
       "      <td>0.047285</td>\n",
       "      <td>0.481779</td>\n",
       "      <td>0.035010</td>\n",
       "      <td>1.000000</td>\n",
       "      <td>0.034282</td>\n",
       "      <td>-0.038838</td>\n",
       "      <td>-0.046984</td>\n",
       "    </tr>\n",
       "    <tr>\n",
       "      <td>algo_03_dog</td>\n",
       "      <td>0.095984</td>\n",
       "      <td>-0.029568</td>\n",
       "      <td>0.003171</td>\n",
       "      <td>0.063045</td>\n",
       "      <td>0.118262</td>\n",
       "      <td>0.558037</td>\n",
       "      <td>0.064263</td>\n",
       "      <td>0.554087</td>\n",
       "      <td>0.034282</td>\n",
       "      <td>1.000000</td>\n",
       "      <td>0.006365</td>\n",
       "      <td>0.034639</td>\n",
       "    </tr>\n",
       "    <tr>\n",
       "      <td>retweet_count</td>\n",
       "      <td>0.382808</td>\n",
       "      <td>0.018678</td>\n",
       "      <td>-0.019449</td>\n",
       "      <td>0.103739</td>\n",
       "      <td>0.047648</td>\n",
       "      <td>0.002700</td>\n",
       "      <td>-0.014151</td>\n",
       "      <td>0.012619</td>\n",
       "      <td>-0.038838</td>\n",
       "      <td>0.006365</td>\n",
       "      <td>1.000000</td>\n",
       "      <td>0.929039</td>\n",
       "    </tr>\n",
       "    <tr>\n",
       "      <td>favorite_count</td>\n",
       "      <td>0.610384</td>\n",
       "      <td>0.016251</td>\n",
       "      <td>-0.026470</td>\n",
       "      <td>0.129584</td>\n",
       "      <td>0.070318</td>\n",
       "      <td>0.043370</td>\n",
       "      <td>-0.016385</td>\n",
       "      <td>0.051829</td>\n",
       "      <td>-0.046984</td>\n",
       "      <td>0.034639</td>\n",
       "      <td>0.929039</td>\n",
       "      <td>1.000000</td>\n",
       "    </tr>\n",
       "  </tbody>\n",
       "</table>\n",
       "</div>"
      ],
      "text/plain": [
       "                    tweet_id  rating_numerator  rating_denominator   img_num  \\\n",
       "tweet_id            1.000000  0.023622         -0.022035            0.213043   \n",
       "rating_numerator    0.023622  1.000000          0.197406           -0.000423   \n",
       "rating_denominator -0.022035  0.197406          1.000000           -0.003302   \n",
       "img_num             0.213043 -0.000423         -0.003302            1.000000   \n",
       "algo_01_confidence  0.104599 -0.008757         -0.000664            0.204491   \n",
       "algo_01_dog         0.119122 -0.029359         -0.000849            0.032942   \n",
       "algo_02_confidence -0.002380 -0.021767         -0.040742           -0.156397   \n",
       "algo_02_dog         0.122315 -0.034728         -0.002330            0.052641   \n",
       "algo_03_confidence -0.046915 -0.006148         -0.005419           -0.141630   \n",
       "algo_03_dog         0.095984 -0.029568          0.003171            0.063045   \n",
       "retweet_count       0.382808  0.018678         -0.019449            0.103739   \n",
       "favorite_count      0.610384  0.016251         -0.026470            0.129584   \n",
       "\n",
       "                    algo_01_confidence  algo_01_dog  algo_02_confidence  \\\n",
       "tweet_id            0.104599            0.119122    -0.002380             \n",
       "rating_numerator   -0.008757           -0.029359    -0.021767             \n",
       "rating_denominator -0.000664           -0.000849    -0.040742             \n",
       "img_num             0.204491            0.032942    -0.156397             \n",
       "algo_01_confidence  1.000000            0.125900    -0.509641             \n",
       "algo_01_dog         0.125900            1.000000     0.109907             \n",
       "algo_02_confidence -0.509641            0.109907     1.000000             \n",
       "algo_02_dog         0.141271            0.635259     0.096701             \n",
       "algo_03_confidence -0.707513            0.047285     0.481779             \n",
       "algo_03_dog         0.118262            0.558037     0.064263             \n",
       "retweet_count       0.047648            0.002700    -0.014151             \n",
       "favorite_count      0.070318            0.043370    -0.016385             \n",
       "\n",
       "                    algo_02_dog  algo_03_confidence  algo_03_dog  \\\n",
       "tweet_id            0.122315    -0.046915            0.095984      \n",
       "rating_numerator   -0.034728    -0.006148           -0.029568      \n",
       "rating_denominator -0.002330    -0.005419            0.003171      \n",
       "img_num             0.052641    -0.141630            0.063045      \n",
       "algo_01_confidence  0.141271    -0.707513            0.118262      \n",
       "algo_01_dog         0.635259     0.047285            0.558037      \n",
       "algo_02_confidence  0.096701     0.481779            0.064263      \n",
       "algo_02_dog         1.000000     0.035010            0.554087      \n",
       "algo_03_confidence  0.035010     1.000000            0.034282      \n",
       "algo_03_dog         0.554087     0.034282            1.000000      \n",
       "retweet_count       0.012619    -0.038838            0.006365      \n",
       "favorite_count      0.051829    -0.046984            0.034639      \n",
       "\n",
       "                    retweet_count  favorite_count  \n",
       "tweet_id            0.382808       0.610384        \n",
       "rating_numerator    0.018678       0.016251        \n",
       "rating_denominator -0.019449      -0.026470        \n",
       "img_num             0.103739       0.129584        \n",
       "algo_01_confidence  0.047648       0.070318        \n",
       "algo_01_dog         0.002700       0.043370        \n",
       "algo_02_confidence -0.014151      -0.016385        \n",
       "algo_02_dog         0.012619       0.051829        \n",
       "algo_03_confidence -0.038838      -0.046984        \n",
       "algo_03_dog         0.006365       0.034639        \n",
       "retweet_count       1.000000       0.929039        \n",
       "favorite_count      0.929039       1.000000        "
      ]
     },
     "execution_count": 120,
     "metadata": {},
     "output_type": "execute_result"
    }
   ],
   "source": [
    "df_merged.corr(method='pearson')"
   ]
  },
  {
   "cell_type": "markdown",
   "metadata": {},
   "source": [
    "The r^2 value between retweet_count and favorite_cout is **0.929039** which indicates strong positive correlation."
   ]
  },
  {
   "cell_type": "code",
   "execution_count": 147,
   "metadata": {},
   "outputs": [
    {
     "data": {
      "text/plain": [
       "<seaborn.axisgrid.JointGrid at 0x1a45f73940>"
      ]
     },
     "execution_count": 147,
     "metadata": {},
     "output_type": "execute_result"
    },
    {
     "data": {
      "image/png": "[encoded data removed]",
      "text/plain": [
       "<Figure size 432x432 with 3 Axes>"
      ]
     },
     "metadata": {
      "needs_background": "light"
     },
     "output_type": "display_data"
    }
   ],
   "source": [
    "plt.rcParams[\"figure.figsize\"] = [12, 9]\n",
    "sb.jointplot(x=\"retweet_count\", y=\"favorite_count\", data=df_merged)"
   ]
  },
  {
   "cell_type": "code",
   "execution_count": 146,
   "metadata": {},
   "outputs": [
    {
     "data": {
      "text/plain": [
       "<matplotlib.axes._subplots.AxesSubplot at 0x1a45e45fd0>"
      ]
     },
     "execution_count": 146,
     "metadata": {},
     "output_type": "execute_result"
    },
    {
     "data": {
      "image/png": "[encoded data removed]",
      "text/plain": [
       "<Figure size 864x648 with 1 Axes>"
      ]
     },
     "metadata": {
      "needs_background": "light"
     },
     "output_type": "display_data"
    }
   ],
   "source": [
    "sb.regplot(x=\"retweet_count\", y=\"favorite_count\", data=df_merged)"
   ]
  },
  {
   "cell_type": "markdown",
   "metadata": {},
   "source": [
    "## Popular dog name"
   ]
  },
  {
   "cell_type": "code",
   "execution_count": 132,
   "metadata": {},
   "outputs": [
    {
     "data": {
      "text/plain": [
       "Text(0.5, 0, 'Number of Dogs')"
      ]
     },
     "execution_count": 132,
     "metadata": {},
     "output_type": "execute_result"
    },
    {
     "data": {
      "image/png": "[encoded data removed]",
      "text/plain": [
       "<Figure size 792x360 with 1 Axes>"
      ]
     },
     "metadata": {
      "needs_background": "light"
     },
     "output_type": "display_data"
    }
   ],
   "source": [
    "df_merged.name.value_counts()[1:6].plot(figsize=(11,5), title='Top 5 common dog names').set_xlabel(\"Number of Dogs\")"
   ]
  },
  {
   "cell_type": "markdown",
   "metadata": {},
   "source": [
    "We can see that most popular names are - Oliver, Cooper and Charlie"
   ]
  },
  {
   "cell_type": "markdown",
   "metadata": {},
   "source": [
    "## Tweet trend over year"
   ]
  },
  {
   "cell_type": "code",
   "execution_count": 144,
   "metadata": {},
   "outputs": [
    {
     "name": "stderr",
     "output_type": "stream",
     "text": [
      "//anaconda3/lib/python3.7/site-packages/ipykernel_launcher.py:3: FutureWarning: `Series.plot()` should not be called with positional arguments, only keyword arguments. The order of positional arguments will change in the future. Use `Series.plot(kind='line')` instead of `Series.plot('line',)`.\n",
      "  This is separate from the ipykernel package so we can avoid doing imports until\n"
     ]
    },
    {
     "data": {
      "text/plain": [
       "(0, 384.2)"
      ]
     },
     "execution_count": 144,
     "metadata": {},
     "output_type": "execute_result"
    },
    {
     "data": {
      "image/png": "[encoded data removed]",
      "text/plain": [
       "<Figure size 864x648 with 1 Axes>"
      ]
     },
     "metadata": {
      "needs_background": "light"
     },
     "output_type": "display_data"
    }
   ],
   "source": [
    "d = df_merged.tweet_id.groupby([df_merged[\"timestamp\"].dt.year, df_merged[\"timestamp\"].dt.month]).count()\n",
    "\n",
    "ax = d.plot('line', title='Tweet trend over year')\n",
    "ax.set_xlabel(\"Year-Month\")\n",
    "ax.set_ylabel(\"# Tweets\")\n",
    "ax.set_ylim(0, )\n",
    "\n"
   ]
  },
  {
   "cell_type": "markdown",
   "metadata": {},
   "source": [
    "From the above plot, we find that the tweet trend in decreasing over the time. The tweeting trend was highest in the beginning of the year 2016."
   ]
  },
  {
   "cell_type": "code",
   "execution_count": null,
   "metadata": {},
   "outputs": [],
   "source": []
  }
 ],
 "metadata": {
  "kernelspec": {
   "display_name": "Python 3",
   "language": "python",
   "name": "python3"
  },
  "language_info": {
   "codemirror_mode": {
    "name": "ipython",
    "version": 3
   },
   "file_extension": ".py",
   "mimetype": "text/x-python",
   "name": "python",
   "nbconvert_exporter": "python",
   "pygments_lexer": "ipython3",
   "version": "3.7.3"
  }
 },
 "nbformat": 4,
 "nbformat_minor": 2
}
